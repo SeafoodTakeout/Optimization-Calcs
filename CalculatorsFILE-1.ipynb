{
 "cells": [
  {
   "cell_type": "markdown",
   "id": "f7f7e647",
   "metadata": {},
   "source": [
    "Appendix:\n",
    "    -Slope & Y-intercept (Linear)\n",
    "    -Solve Linear Function (y=mx+b)\n",
    "    -Break Even Calculator\n",
    "    -Correlation Coefficient (Vector)\n",
    "    -Solving Linear Systems Calculator\n",
    "    -Matrix Inverse Calculator (+ identity and solve) "
   ]
  },
  {
   "cell_type": "markdown",
   "id": "0ba59938",
   "metadata": {},
   "source": [
    "# Slope and Y-intercept (linear)"
   ]
  },
  {
   "cell_type": "code",
   "execution_count": 98,
   "id": "9ceb2428",
   "metadata": {},
   "outputs": [],
   "source": [
    "def getSlope(x1, y1, x2, y2):\n",
    "    slope = (y2-y1)/(x2-x1)\n",
    "    return slope\n",
    "\n",
    "def getYInt(x1, y1, x2, y2):\n",
    "    m=getSlope(x1,y1,x2,y2)\n",
    "    b=y1-m*x1\n",
    "    return print((0,b))"
   ]
  },
  {
   "cell_type": "code",
   "execution_count": 99,
   "id": "2e9b8492",
   "metadata": {},
   "outputs": [
    {
     "data": {
      "text/plain": [
       "30.714285714285715"
      ]
     },
     "execution_count": 99,
     "metadata": {},
     "output_type": "execute_result"
    }
   ],
   "source": [
    "#Input for slope here:\n",
    "getSlope(0, 0, 7, 215)"
   ]
  },
  {
   "cell_type": "code",
   "execution_count": 101,
   "id": "45ad3a1c",
   "metadata": {},
   "outputs": [
    {
     "name": "stdout",
     "output_type": "stream",
     "text": [
      "(0, 0.0)\n"
     ]
    }
   ],
   "source": [
    "#Input for Y-intercept here:\n",
    "getYInt(0, 0, 7, 215)\n",
    "#(0,b)"
   ]
  },
  {
   "cell_type": "markdown",
   "id": "2a2e9020",
   "metadata": {},
   "source": [
    "# Solve Linear Function (y=mx+b)"
   ]
  },
  {
   "cell_type": "code",
   "execution_count": 30,
   "id": "5039db3f",
   "metadata": {},
   "outputs": [
    {
     "name": "stdout",
     "output_type": "stream",
     "text": [
      "Enter Slope): 1.24\n",
      "Enter x of f(x): 340\n",
      "Enter Y-intercept: 400\n"
     ]
    }
   ],
   "source": [
    "from math import *\n",
    "m = float(input(\"Enter Slope): \"))\n",
    "x = float(input(\"Enter x of f(x): \"))\n",
    "b = float(input(\"Enter Y-intercept: \"))"
   ]
  },
  {
   "cell_type": "code",
   "execution_count": 35,
   "id": "cab7899a",
   "metadata": {
    "scrolled": false
   },
   "outputs": [
    {
     "name": "stdout",
     "output_type": "stream",
     "text": [
      "821.6\n",
      "(340.0, 821.6)\n"
     ]
    }
   ],
   "source": [
    "y=m*x+b\n",
    "print (y)\n",
    "#ordered pair\n",
    "print ((x,y))"
   ]
  },
  {
   "cell_type": "markdown",
   "id": "65749c10",
   "metadata": {},
   "source": [
    "Reverse Operation:\n",
    "Finding x value from f(x)."
   ]
  },
  {
   "cell_type": "code",
   "execution_count": 36,
   "id": "3b93217b",
   "metadata": {},
   "outputs": [
    {
     "name": "stdout",
     "output_type": "stream",
     "text": [
      "Enter f(x) value:1416.8\n",
      "Enter Slope): 1.24\n",
      "Enter Y-intercept: 400\n"
     ]
    }
   ],
   "source": [
    "#f(x)=y\n",
    "y = float(input(\"Enter f(x) value:\"))\n",
    "m = float(input(\"Enter Slope): \"))\n",
    "b = float(input(\"Enter Y-intercept: \"))"
   ]
  },
  {
   "cell_type": "code",
   "execution_count": 37,
   "id": "12e5c8ba",
   "metadata": {},
   "outputs": [
    {
     "name": "stdout",
     "output_type": "stream",
     "text": [
      "820.0\n",
      "(820.0, 1416.8)\n"
     ]
    }
   ],
   "source": [
    "x=(y-b)/m\n",
    "print (x)\n",
    "#ordered pair\n",
    "print ((x,y))"
   ]
  },
  {
   "cell_type": "markdown",
   "id": "a1e7a2c1",
   "metadata": {},
   "source": [
    "# Break Even Calculator"
   ]
  },
  {
   "cell_type": "code",
   "execution_count": 116,
   "id": "41a0d953",
   "metadata": {},
   "outputs": [],
   "source": [
    "from sympy import Symbol, Derivative, integrate\n",
    "import math"
   ]
  },
  {
   "cell_type": "code",
   "execution_count": 117,
   "id": "a7f8f28a",
   "metadata": {},
   "outputs": [
    {
     "name": "stdout",
     "output_type": "stream",
     "text": [
      "Enter fixed cost: 280\n",
      "Enter variable cost: 5\n",
      "Enter revenue (price): 19\n"
     ]
    }
   ],
   "source": [
    "#Calculate C(x), R(x), P(x) (Cost Function)\n",
    "b = float(input(\"Enter fixed cost: \"))\n",
    "m = float(input(\"Enter variable cost: \"))\n",
    "R = float(input(\"Enter revenue (price): \"))\n",
    "x = Symbol('x')"
   ]
  },
  {
   "cell_type": "code",
   "execution_count": 118,
   "id": "cc127aeb",
   "metadata": {
    "scrolled": true
   },
   "outputs": [
    {
     "name": "stdout",
     "output_type": "stream",
     "text": [
      "5.0*x+280.0\n",
      "19.0*x\n",
      "14.0*x - 280.0\n"
     ]
    }
   ],
   "source": [
    "#C(x) Cost Function\n",
    "print (f\"{m}*{x}+{b}\")\n",
    "#R(x) Revenue Function\n",
    "print (R*x)\n",
    "#P(x) Profit Function\n",
    "p = R-m\n",
    "print (p*x-b)"
   ]
  },
  {
   "cell_type": "code",
   "execution_count": 119,
   "id": "8a1c875e",
   "metadata": {},
   "outputs": [
    {
     "name": "stdout",
     "output_type": "stream",
     "text": [
      "20.0\n"
     ]
    }
   ],
   "source": [
    "break_even = b/p\n",
    "\n",
    "print (break_even)"
   ]
  },
  {
   "cell_type": "code",
   "execution_count": 90,
   "id": "790b979a",
   "metadata": {},
   "outputs": [
    {
     "name": "stdout",
     "output_type": "stream",
     "text": [
      "973.0769230769229\n"
     ]
    }
   ],
   "source": [
    "#Enter Profit\n",
    "pfunc = 2000\n",
    "number =(pfunc+b)/p\n",
    "print(number)\n"
   ]
  },
  {
   "cell_type": "markdown",
   "id": "78bf5150",
   "metadata": {},
   "source": [
    "# Correlation Coefficient (from vectors)"
   ]
  },
  {
   "cell_type": "code",
   "execution_count": 128,
   "id": "679002bc",
   "metadata": {},
   "outputs": [
    {
     "name": "stdout",
     "output_type": "stream",
     "text": [
      "slope =  -0.1238\n",
      "intercept =  59.1025\n",
      "The death rate in 2020 will be approximately 55.39 per 100,000 population.\n",
      "correlation coefficient =  -0.9018\n"
     ]
    }
   ],
   "source": [
    "from scipy import stats\n",
    "x = [157, 250, 340, 350, 391, 191, 219]\n",
    "y = [32.8, 27.7, 13.1, 17, 10.2, 35.8, 42.2]\n",
    "slope, intercept, r_value, p_value, std_err = stats.linregress(x, y)\n",
    "\n",
    "#Below is for prediction given 'x'\n",
    "predict_2020 = 30 * slope + intercept\n",
    "\n",
    "print(\"slope = \", round(slope, 4))\n",
    "print(\"intercept = \", round(intercept, 4))\n",
    "print(\"The death rate in 2020 will be approximately\", round(predict_2020, 2), \"per 100,000 population.\")\n",
    "print(\"correlation coefficient = \", round(r_value, 4))"
   ]
  },
  {
   "cell_type": "markdown",
   "id": "cc0a74ab",
   "metadata": {},
   "source": [
    "# Solving Linear Systems Calculator"
   ]
  },
  {
   "cell_type": "markdown",
   "id": "549310db",
   "metadata": {},
   "source": [
    "Example:\n",
    "\n",
    "4x+3y-5z=2\n",
    "-2x-4y+5=5\n",
    "8x+8y=-3\n",
    "\n",
    "Note: fill in zero \"0\" for missing values\n",
    "\n",
    "A = np.array([[4, 3, -5], \n",
    "              [-2, -4, 5], \n",
    "              [8, 8, 0]])\n",
    "y = np.array([2, 5, -3])"
   ]
  },
  {
   "cell_type": "code",
   "execution_count": 129,
   "id": "129c6326",
   "metadata": {},
   "outputs": [
    {
     "name": "stdout",
     "output_type": "stream",
     "text": [
      "[22000. 15500. 13000.]\n"
     ]
    }
   ],
   "source": [
    "import numpy as np\n",
    "\n",
    "A = np.array([[1, 1, 1], \n",
    "              [0, 1, -1], \n",
    "              [.04, .05, .06]])\n",
    "y = np.array([50500, 2500, 2435])\n",
    "\n",
    "x = np.linalg.solve(A, y)\n",
    "print(x)"
   ]
  },
  {
   "cell_type": "code",
   "execution_count": 123,
   "id": "8ee2bb62",
   "metadata": {},
   "outputs": [
    {
     "name": "stdout",
     "output_type": "stream",
     "text": [
      "[223.   8.]\n"
     ]
    }
   ],
   "source": [
    "import numpy as np\n",
    "\n",
    "A = np.array([[1, 1], \n",
    "              [20, 30]])\n",
    "y = np.array([231, 4700])\n",
    "\n",
    "x = np.linalg.solve(A, y)\n",
    "print(x)"
   ]
  },
  {
   "cell_type": "markdown",
   "id": "488c1396",
   "metadata": {},
   "source": [
    "# Matrix Inverses"
   ]
  },
  {
   "cell_type": "code",
   "execution_count": 114,
   "id": "9728fe9f",
   "metadata": {},
   "outputs": [],
   "source": [
    "import numpy as np\n",
    "from numpy.linalg import linalg, inv"
   ]
  },
  {
   "cell_type": "code",
   "execution_count": 117,
   "id": "1ca89fd5",
   "metadata": {},
   "outputs": [
    {
     "name": "stdout",
     "output_type": "stream",
     "text": [
      "\n",
      "Right Hand Side of Equation\n",
      "[[96]\n",
      " [87]\n",
      " [74]]\n",
      "\n",
      "Matrix A\n",
      "[[ 1  2  0]\n",
      " [-2 -3  5]\n",
      " [ 0  0  1]]\n"
     ]
    }
   ],
   "source": [
    "Example:\n",
    "    \n",
    "#Below is for values of matrix.\n",
    "rhs = [96, 87, 74]\n",
    "rhs = np.matrix(rhs)\n",
    "rhs = np.transpose(rhs)\n",
    "print('\\nRight Hand Side of Equation')\n",
    "print(rhs)\n",
    "\n",
    "#Below is for matrix\n",
    "A = [[1, 2, 0], [-2, -3, 5], [0, 0, 1]]\n",
    "A = np.matrix(A)\n",
    "print('\\nMatrix A')\n",
    "print(A)"
   ]
  },
  {
   "cell_type": "code",
   "execution_count": 7,
   "id": "1fb3ff4c",
   "metadata": {},
   "outputs": [
    {
     "name": "stdout",
     "output_type": "stream",
     "text": [
      "\n",
      "Right Hand Side of Equation\n",
      "[[-1]\n",
      " [ 2]]\n"
     ]
    }
   ],
   "source": [
    "#Below is for values of matrix.\n",
    "rhs = [-1, 2]\n",
    "rhs = np.matrix(rhs)\n",
    "rhs = np.transpose(rhs)\n",
    "print('\\nRight Hand Side of Equation')\n",
    "print(rhs)"
   ]
  },
  {
   "cell_type": "code",
   "execution_count": 8,
   "id": "deee1d97",
   "metadata": {},
   "outputs": [
    {
     "name": "stdout",
     "output_type": "stream",
     "text": [
      "\n",
      "Matrix A\n",
      "[[  7 -25]\n",
      " [ -1   5]]\n"
     ]
    }
   ],
   "source": [
    "#Below is for matrix\n",
    "A = [[7, -25],[-1, 5]]\n",
    "A = np.matrix(A)\n",
    "print('\\nMatrix A')\n",
    "print(A)"
   ]
  },
  {
   "cell_type": "code",
   "execution_count": 9,
   "id": "5f2df94d",
   "metadata": {},
   "outputs": [
    {
     "name": "stdout",
     "output_type": "stream",
     "text": [
      "\n",
      "Inverse of A\n",
      "[[0.5 2.5]\n",
      " [0.1 0.7]]\n"
     ]
    }
   ],
   "source": [
    "#Find Inverse of Matrix a here:\n",
    "print('\\nInverse of A')\n",
    "IA = inv(A)\n",
    "print(IA)"
   ]
  },
  {
   "cell_type": "markdown",
   "id": "92ac65b9",
   "metadata": {},
   "source": [
    "Note that the function np.dot() performs matrix multiplication. Verify inverse by multiplying matrix A and its inverse IA.\n",
    "\n",
    "The code below can also be used for Matrix Multipications."
   ]
  },
  {
   "cell_type": "code",
   "execution_count": 10,
   "id": "1ac3119d",
   "metadata": {},
   "outputs": [
    {
     "name": "stdout",
     "output_type": "stream",
     "text": [
      "\n",
      "Identity Matrix\n",
      "[[1. 0.]\n",
      " [0. 1.]]\n"
     ]
    }
   ],
   "source": [
    "#identity Matrix\n",
    "print('\\nIdentity Matrix')\n",
    "I = np.dot(IA, A)\n",
    "I = np.rint(I)               # This converts floating point to integer.\n",
    "print(I)"
   ]
  },
  {
   "cell_type": "code",
   "execution_count": 12,
   "id": "e9c6fbf5",
   "metadata": {},
   "outputs": [
    {
     "name": "stdout",
     "output_type": "stream",
     "text": [
      "\\Illustration of solution with linalg.solve(,) function\n",
      "[[4.]\n",
      " [1.]]\n",
      "[[4.5]\n",
      " [1.3]]\n"
     ]
    }
   ],
   "source": [
    "#Solve Matrix\n",
    "print('\\Illustration of solution with linalg.solve(,) function')\n",
    "result2 = linalg.solve(A, rhs)\n",
    "print(np.rint(result2)) # This converts floating point to integer.\n",
    "print(result2) #Kept as float"
   ]
  },
  {
   "cell_type": "code",
   "execution_count": null,
   "id": "acc42ac5",
   "metadata": {},
   "outputs": [],
   "source": [
    "#Solve matrix (option 2)\n",
    "result = np.dot(IA, rhs)\n",
    "result = np.rint(result)    # This converts floating point to integer.\n",
    "print('\\n Solution to Problem')\n",
    "print(result)"
   ]
  },
  {
   "cell_type": "markdown",
   "id": "e351d484",
   "metadata": {},
   "source": [
    "# Matrix Multipications"
   ]
  },
  {
   "cell_type": "code",
   "execution_count": 1,
   "id": "10ea1cb5",
   "metadata": {},
   "outputs": [],
   "source": [
    "import numpy as np\n",
    "from numpy.linalg import linalg, inv"
   ]
  },
  {
   "cell_type": "code",
   "execution_count": 2,
   "id": "1e7004e4",
   "metadata": {
    "collapsed": true
   },
   "outputs": [
    {
     "name": "stdout",
     "output_type": "stream",
     "text": [
      "\n",
      "Matrix A\n",
      "[[13000 11000]\n",
      " [22000 23000]\n",
      " [28000 35000]\n",
      " [64000 56000]]\n"
     ]
    }
   ],
   "source": [
    "#Below is for matrix #1\n",
    "A = [[13000, 11000], [22000, 23000], [28000, 35000], [64000, 56000]]\n",
    "A = np.matrix(A)\n",
    "print('\\nMatrix A')\n",
    "print(A)"
   ]
  },
  {
   "cell_type": "code",
   "execution_count": 3,
   "id": "138c5f8a",
   "metadata": {},
   "outputs": [
    {
     "name": "stdout",
     "output_type": "stream",
     "text": [
      "\n",
      "Matrix B\n",
      "[[0.12 0.   0.   0.  ]\n",
      " [0.   0.08 0.   0.  ]\n",
      " [0.   0.   0.07 0.  ]\n",
      " [0.   0.   0.   0.19]]\n"
     ]
    }
   ],
   "source": [
    "#Below is for matrix #2\n",
    "B = [[.12, 0, 0, 0], [0, .08, 0, 0], [0, 0, 0.07, 0], [0, 0, 0, 0.19]]\n",
    "B = np.matrix(B)\n",
    "print('\\nMatrix B')\n",
    "print(B)"
   ]
  },
  {
   "cell_type": "code",
   "execution_count": 4,
   "id": "a779b280",
   "metadata": {},
   "outputs": [
    {
     "name": "stdout",
     "output_type": "stream",
     "text": [
      "\\Multiply Matrix\n",
      "[[ 1560.  1320.]\n",
      " [ 1760.  1840.]\n",
      " [ 1960.  2450.]\n",
      " [12160. 10640.]]\n"
     ]
    }
   ],
   "source": [
    "#identity Matrix\n",
    "print('\\Multiply Matrix')\n",
    "M = np.dot(B, A)\n",
    "M = np.rint(M)               # This converts floating point to integer.\n",
    "print(M)"
   ]
  },
  {
   "cell_type": "markdown",
   "id": "5b54f199",
   "metadata": {},
   "source": [
    "# Relative and Absolute Extrema"
   ]
  },
  {
   "cell_type": "code",
   "execution_count": 142,
   "id": "555aadb0",
   "metadata": {},
   "outputs": [],
   "source": [
    "import numpy as np\n",
    "import matplotlib.pyplot as plt"
   ]
  },
  {
   "cell_type": "code",
   "execution_count": 143,
   "id": "426058c7",
   "metadata": {},
   "outputs": [],
   "source": [
    "#Run and Disregard\n",
    "def extrema(a, b, c):\n",
    "    x = max(a, b, c)\n",
    "    z = min(a, b, c)\n",
    "    epsilon = 0.0000001  # This is a safeguard against minor differences.\n",
    "    result = False\n",
    "    if abs(b - x) < epsilon:\n",
    "        result = True\n",
    "    if abs(b - z) < epsilon:\n",
    "        result = True\n",
    "    return result"
   ]
  },
  {
   "cell_type": "code",
   "execution_count": 144,
   "id": "8cd5ebcb",
   "metadata": {},
   "outputs": [],
   "source": [
    "##Enter Function Below:\n",
    "def f(x):\n",
    "    y = (x**2 + 16)/(4**x)\n",
    "    return y"
   ]
  },
  {
   "cell_type": "code",
   "execution_count": 145,
   "id": "d655b753",
   "metadata": {},
   "outputs": [],
   "source": [
    "##Define End Points:\n",
    "xa = 1\n",
    "xb = 12"
   ]
  },
  {
   "cell_type": "code",
   "execution_count": 146,
   "id": "b1f357a6",
   "metadata": {},
   "outputs": [],
   "source": [
    "#Run and Disregard\n",
    "n = 1000\n",
    "delta = (xb - xa) / n\n",
    "x = np.arange(xa, xb + delta, delta)\n",
    "y = f(x)\n",
    "\n",
    "value = [False]  # This defines the list value which will contain Boolean values.\n",
    "value = value * len(x)  # This expands the list to the length of x.\n",
    "\n",
    "L = len(x)\n",
    "value[0] = True  # This will correspond to one endpoint.\n",
    "value[L - 1] = True  # This corresponds to the other."
   ]
  },
  {
   "cell_type": "code",
   "execution_count": 147,
   "id": "1b180b9a",
   "metadata": {},
   "outputs": [
    {
     "name": "stdout",
     "output_type": "stream",
     "text": [
      "the min y value is:  9.536743164063694e-06\n",
      "the max y value is:  4.25\n"
     ]
    }
   ],
   "source": [
    "#Run for Value:\n",
    "for x_index in range(L - 2):\n",
    "    first_x = x[x_index]\n",
    "    second_x = x[x_index + 1]\n",
    "    third_x = x[x_index + 2]\n",
    "    a = f(first_x)\n",
    "    b = f(second_x)\n",
    "    c = f(third_x)\n",
    "    is_second_x_extrema = extrema(a, b, c)\n",
    "    value[x_index + 1] = is_second_x_extrema\n",
    "\n",
    "for k in range(L - 2):\n",
    "    value[k + 1] = extrema(f(x[k]), f(x[k + 1]), f(x[k + 2]))\n",
    "\n",
    "max_value = max(y)  # We check the list to find the global maxima.\n",
    "min_value = min(y)# We check the list to find the global minima.\n",
    "print(f\"the min y value is: \", min_value)\n",
    "print(f\"the max y value is: \", max_value)"
   ]
  },
  {
   "cell_type": "markdown",
   "id": "dba709b9",
   "metadata": {},
   "source": [
    "# Functions of two variables (x, y)"
   ]
  },
  {
   "cell_type": "markdown",
   "id": "0fca3f30",
   "metadata": {},
   "source": [
    "Example:\n",
    "\n",
    "f(x, y) = 4x^2 - 9xy +6y^3\n",
    "\n",
    "Let us find partial derivitives for x and y individually. It is incredibly easy with sympy as we saw last week."
   ]
  },
  {
   "cell_type": "code",
   "execution_count": 138,
   "id": "e7a5807f",
   "metadata": {},
   "outputs": [
    {
     "name": "stdout",
     "output_type": "stream",
     "text": [
      "Partial Derivitive of our equation with respect to x: 8*x - 9*y\n",
      "Partial Derivitive of our equation with respect to y: -9*x + 18*y**2\n"
     ]
    }
   ],
   "source": [
    "from sympy import symbols\n",
    "\n",
    "x, y = symbols('x, y')\n",
    "#Enter Function Here:\n",
    "f_x_y = 4 * x**2 - 9 * x * y + 6 * y**3\n",
    "\n",
    "partial_f_x = f_x_y.diff(x)  # Differentiate our equation with respect to x\n",
    "print(f\"Partial Derivitive of our equation with respect to x: {partial_f_x}\")\n",
    "\n",
    "partial_f_y = f_x_y.diff(y)  # Differentiate our equation with respect to y\n",
    "print(f\"Partial Derivitive of our equation with respect to y: {partial_f_y}\")"
   ]
  },
  {
   "cell_type": "code",
   "execution_count": 139,
   "id": "95ba63c8",
   "metadata": {},
   "outputs": [
    {
     "name": "stdout",
     "output_type": "stream",
     "text": [
      "Second derivitive fyy(x,y): 36*y\n",
      "Second derivitive fyx(x,y): -9\n"
     ]
    }
   ],
   "source": [
    "#We can continue by taking the second derivitive of either. \n",
    "partial_y_y = partial_f_y.diff(y) \n",
    "partial_y_x = partial_f_y.diff(x)\n",
    "\n",
    "print(f\"Second derivitive fyy(x,y): {partial_y_y}\")\n",
    "print(f\"Second derivitive fyx(x,y): {partial_y_x}\")"
   ]
  },
  {
   "cell_type": "markdown",
   "id": "059b6a07",
   "metadata": {},
   "source": [
    "# Finding Extrema (Two Functions (x, y))"
   ]
  },
  {
   "cell_type": "code",
   "execution_count": 48,
   "id": "ec70f2e4",
   "metadata": {},
   "outputs": [
    {
     "ename": "NonlinearError",
     "evalue": "",
     "output_type": "error",
     "traceback": [
      "\u001b[1;31m---------------------------------------------------------------------------\u001b[0m",
      "\u001b[1;31mPolyNonlinearError\u001b[0m                        Traceback (most recent call last)",
      "\u001b[1;32m~\\anaconda3\\lib\\site-packages\\sympy\\polys\\matrices\\linsolve.py\u001b[0m in \u001b[0;36m_linear_eq_to_dict\u001b[1;34m(eqs, syms)\u001b[0m\n\u001b[0;32m    146\u001b[0m     \u001b[1;32mtry\u001b[0m\u001b[1;33m:\u001b[0m\u001b[1;33m\u001b[0m\u001b[1;33m\u001b[0m\u001b[0m\n\u001b[1;32m--> 147\u001b[1;33m         \u001b[1;32mreturn\u001b[0m \u001b[0m_linear_eq_to_dict_inner\u001b[0m\u001b[1;33m(\u001b[0m\u001b[0meqs\u001b[0m\u001b[1;33m,\u001b[0m \u001b[0msyms\u001b[0m\u001b[1;33m)\u001b[0m\u001b[1;33m\u001b[0m\u001b[1;33m\u001b[0m\u001b[0m\n\u001b[0m\u001b[0;32m    148\u001b[0m     \u001b[1;32mexcept\u001b[0m \u001b[0mPolyNonlinearError\u001b[0m\u001b[1;33m:\u001b[0m\u001b[1;33m\u001b[0m\u001b[1;33m\u001b[0m\u001b[0m\n",
      "\u001b[1;32m~\\anaconda3\\lib\\site-packages\\sympy\\polys\\matrices\\linsolve.py\u001b[0m in \u001b[0;36m_linear_eq_to_dict_inner\u001b[1;34m(eqs, syms)\u001b[0m\n\u001b[0;32m    158\u001b[0m     \u001b[1;32mfor\u001b[0m \u001b[0meq\u001b[0m \u001b[1;32min\u001b[0m \u001b[0meqs\u001b[0m\u001b[1;33m:\u001b[0m\u001b[1;33m\u001b[0m\u001b[1;33m\u001b[0m\u001b[0m\n\u001b[1;32m--> 159\u001b[1;33m         \u001b[0mrhs\u001b[0m\u001b[1;33m,\u001b[0m \u001b[0meqdict\u001b[0m \u001b[1;33m=\u001b[0m \u001b[0m_lin_eq2dict\u001b[0m\u001b[1;33m(\u001b[0m\u001b[0meq\u001b[0m\u001b[1;33m,\u001b[0m \u001b[0msyms\u001b[0m\u001b[1;33m)\u001b[0m\u001b[1;33m\u001b[0m\u001b[1;33m\u001b[0m\u001b[0m\n\u001b[0m\u001b[0;32m    160\u001b[0m         \u001b[0meqsdict\u001b[0m\u001b[1;33m.\u001b[0m\u001b[0mappend\u001b[0m\u001b[1;33m(\u001b[0m\u001b[0meqdict\u001b[0m\u001b[1;33m)\u001b[0m\u001b[1;33m\u001b[0m\u001b[1;33m\u001b[0m\u001b[0m\n",
      "\u001b[1;32m~\\anaconda3\\lib\\site-packages\\sympy\\polys\\matrices\\linsolve.py\u001b[0m in \u001b[0;36m_lin_eq2dict\u001b[1;34m(a, symset)\u001b[0m\n\u001b[0;32m    172\u001b[0m         \u001b[1;32mfor\u001b[0m \u001b[0mai\u001b[0m \u001b[1;32min\u001b[0m \u001b[0ma\u001b[0m\u001b[1;33m.\u001b[0m\u001b[0margs\u001b[0m\u001b[1;33m:\u001b[0m\u001b[1;33m\u001b[0m\u001b[1;33m\u001b[0m\u001b[0m\n\u001b[1;32m--> 173\u001b[1;33m             \u001b[0mci\u001b[0m\u001b[1;33m,\u001b[0m \u001b[0mti\u001b[0m \u001b[1;33m=\u001b[0m \u001b[0m_lin_eq2dict\u001b[0m\u001b[1;33m(\u001b[0m\u001b[0mai\u001b[0m\u001b[1;33m,\u001b[0m \u001b[0msymset\u001b[0m\u001b[1;33m)\u001b[0m\u001b[1;33m\u001b[0m\u001b[1;33m\u001b[0m\u001b[0m\n\u001b[0m\u001b[0;32m    174\u001b[0m             \u001b[0mcoeff_list\u001b[0m\u001b[1;33m.\u001b[0m\u001b[0mappend\u001b[0m\u001b[1;33m(\u001b[0m\u001b[0mci\u001b[0m\u001b[1;33m)\u001b[0m\u001b[1;33m\u001b[0m\u001b[1;33m\u001b[0m\u001b[0m\n",
      "\u001b[1;32m~\\anaconda3\\lib\\site-packages\\sympy\\polys\\matrices\\linsolve.py\u001b[0m in \u001b[0;36m_lin_eq2dict\u001b[1;34m(a, symset)\u001b[0m\n\u001b[0;32m    183\u001b[0m         \u001b[1;32mfor\u001b[0m \u001b[0mai\u001b[0m \u001b[1;32min\u001b[0m \u001b[0ma\u001b[0m\u001b[1;33m.\u001b[0m\u001b[0margs\u001b[0m\u001b[1;33m:\u001b[0m\u001b[1;33m\u001b[0m\u001b[1;33m\u001b[0m\u001b[0m\n\u001b[1;32m--> 184\u001b[1;33m             \u001b[0mci\u001b[0m\u001b[1;33m,\u001b[0m \u001b[0mti\u001b[0m \u001b[1;33m=\u001b[0m \u001b[0m_lin_eq2dict\u001b[0m\u001b[1;33m(\u001b[0m\u001b[0mai\u001b[0m\u001b[1;33m,\u001b[0m \u001b[0msymset\u001b[0m\u001b[1;33m)\u001b[0m\u001b[1;33m\u001b[0m\u001b[1;33m\u001b[0m\u001b[0m\n\u001b[0m\u001b[0;32m    185\u001b[0m             \u001b[1;32mif\u001b[0m \u001b[1;32mnot\u001b[0m \u001b[0mti\u001b[0m\u001b[1;33m:\u001b[0m\u001b[1;33m\u001b[0m\u001b[1;33m\u001b[0m\u001b[0m\n",
      "\u001b[1;32m~\\anaconda3\\lib\\site-packages\\sympy\\polys\\matrices\\linsolve.py\u001b[0m in \u001b[0;36m_lin_eq2dict\u001b[1;34m(a, symset)\u001b[0m\n\u001b[0;32m    202\u001b[0m     \u001b[1;32melse\u001b[0m\u001b[1;33m:\u001b[0m\u001b[1;33m\u001b[0m\u001b[1;33m\u001b[0m\u001b[0m\n\u001b[1;32m--> 203\u001b[1;33m         \u001b[1;32mraise\u001b[0m \u001b[0mPolyNonlinearError\u001b[0m\u001b[1;33m\u001b[0m\u001b[1;33m\u001b[0m\u001b[0m\n\u001b[0m",
      "\u001b[1;31mPolyNonlinearError\u001b[0m: ",
      "\nDuring handling of the above exception, another exception occurred:\n",
      "\u001b[1;31mPolyNonlinearError\u001b[0m                        Traceback (most recent call last)",
      "\u001b[1;32m~\\anaconda3\\lib\\site-packages\\sympy\\solvers\\solveset.py\u001b[0m in \u001b[0;36mlinsolve\u001b[1;34m(system, *symbols)\u001b[0m\n\u001b[0;32m   2776\u001b[0m             \u001b[1;32mtry\u001b[0m\u001b[1;33m:\u001b[0m\u001b[1;33m\u001b[0m\u001b[1;33m\u001b[0m\u001b[0m\n\u001b[1;32m-> 2777\u001b[1;33m                 \u001b[0msol\u001b[0m \u001b[1;33m=\u001b[0m \u001b[0m_linsolve\u001b[0m\u001b[1;33m(\u001b[0m\u001b[0meqs\u001b[0m\u001b[1;33m,\u001b[0m \u001b[0msymbols\u001b[0m\u001b[1;33m)\u001b[0m\u001b[1;33m\u001b[0m\u001b[1;33m\u001b[0m\u001b[0m\n\u001b[0m\u001b[0;32m   2778\u001b[0m             \u001b[1;32mexcept\u001b[0m \u001b[0mPolyNonlinearError\u001b[0m \u001b[1;32mas\u001b[0m \u001b[0mexc\u001b[0m\u001b[1;33m:\u001b[0m\u001b[1;33m\u001b[0m\u001b[1;33m\u001b[0m\u001b[0m\n",
      "\u001b[1;32m~\\anaconda3\\lib\\site-packages\\sympy\\polys\\matrices\\linsolve.py\u001b[0m in \u001b[0;36m_linsolve\u001b[1;34m(eqs, syms)\u001b[0m\n\u001b[0;32m     71\u001b[0m     \u001b[1;31m# Convert to sparse augmented matrix (len(eqs) x (nsyms+1))\u001b[0m\u001b[1;33m\u001b[0m\u001b[1;33m\u001b[0m\u001b[1;33m\u001b[0m\u001b[0m\n\u001b[1;32m---> 72\u001b[1;33m     \u001b[0meqsdict\u001b[0m\u001b[1;33m,\u001b[0m \u001b[0mrhs\u001b[0m \u001b[1;33m=\u001b[0m \u001b[0m_linear_eq_to_dict\u001b[0m\u001b[1;33m(\u001b[0m\u001b[0meqs\u001b[0m\u001b[1;33m,\u001b[0m \u001b[0msyms\u001b[0m\u001b[1;33m)\u001b[0m\u001b[1;33m\u001b[0m\u001b[1;33m\u001b[0m\u001b[0m\n\u001b[0m\u001b[0;32m     73\u001b[0m     \u001b[0mAaug\u001b[0m \u001b[1;33m=\u001b[0m \u001b[0msympy_dict_to_dm\u001b[0m\u001b[1;33m(\u001b[0m\u001b[0meqsdict\u001b[0m\u001b[1;33m,\u001b[0m \u001b[0mrhs\u001b[0m\u001b[1;33m,\u001b[0m \u001b[0msyms\u001b[0m\u001b[1;33m)\u001b[0m\u001b[1;33m\u001b[0m\u001b[1;33m\u001b[0m\u001b[0m\n",
      "\u001b[1;32m~\\anaconda3\\lib\\site-packages\\sympy\\polys\\matrices\\linsolve.py\u001b[0m in \u001b[0;36m_linear_eq_to_dict\u001b[1;34m(eqs, syms)\u001b[0m\n\u001b[0;32m    150\u001b[0m         \u001b[0meqs\u001b[0m \u001b[1;33m=\u001b[0m \u001b[0m_expand_eqs_deprecated\u001b[0m\u001b[1;33m(\u001b[0m\u001b[0meqs\u001b[0m\u001b[1;33m)\u001b[0m\u001b[1;33m\u001b[0m\u001b[1;33m\u001b[0m\u001b[0m\n\u001b[1;32m--> 151\u001b[1;33m         \u001b[1;32mreturn\u001b[0m \u001b[0m_linear_eq_to_dict_inner\u001b[0m\u001b[1;33m(\u001b[0m\u001b[0meqs\u001b[0m\u001b[1;33m,\u001b[0m \u001b[0msyms\u001b[0m\u001b[1;33m)\u001b[0m\u001b[1;33m\u001b[0m\u001b[1;33m\u001b[0m\u001b[0m\n\u001b[0m\u001b[0;32m    152\u001b[0m \u001b[1;33m\u001b[0m\u001b[0m\n",
      "\u001b[1;32m~\\anaconda3\\lib\\site-packages\\sympy\\polys\\matrices\\linsolve.py\u001b[0m in \u001b[0;36m_linear_eq_to_dict_inner\u001b[1;34m(eqs, syms)\u001b[0m\n\u001b[0;32m    158\u001b[0m     \u001b[1;32mfor\u001b[0m \u001b[0meq\u001b[0m \u001b[1;32min\u001b[0m \u001b[0meqs\u001b[0m\u001b[1;33m:\u001b[0m\u001b[1;33m\u001b[0m\u001b[1;33m\u001b[0m\u001b[0m\n\u001b[1;32m--> 159\u001b[1;33m         \u001b[0mrhs\u001b[0m\u001b[1;33m,\u001b[0m \u001b[0meqdict\u001b[0m \u001b[1;33m=\u001b[0m \u001b[0m_lin_eq2dict\u001b[0m\u001b[1;33m(\u001b[0m\u001b[0meq\u001b[0m\u001b[1;33m,\u001b[0m \u001b[0msyms\u001b[0m\u001b[1;33m)\u001b[0m\u001b[1;33m\u001b[0m\u001b[1;33m\u001b[0m\u001b[0m\n\u001b[0m\u001b[0;32m    160\u001b[0m         \u001b[0meqsdict\u001b[0m\u001b[1;33m.\u001b[0m\u001b[0mappend\u001b[0m\u001b[1;33m(\u001b[0m\u001b[0meqdict\u001b[0m\u001b[1;33m)\u001b[0m\u001b[1;33m\u001b[0m\u001b[1;33m\u001b[0m\u001b[0m\n",
      "\u001b[1;32m~\\anaconda3\\lib\\site-packages\\sympy\\polys\\matrices\\linsolve.py\u001b[0m in \u001b[0;36m_lin_eq2dict\u001b[1;34m(a, symset)\u001b[0m\n\u001b[0;32m    172\u001b[0m         \u001b[1;32mfor\u001b[0m \u001b[0mai\u001b[0m \u001b[1;32min\u001b[0m \u001b[0ma\u001b[0m\u001b[1;33m.\u001b[0m\u001b[0margs\u001b[0m\u001b[1;33m:\u001b[0m\u001b[1;33m\u001b[0m\u001b[1;33m\u001b[0m\u001b[0m\n\u001b[1;32m--> 173\u001b[1;33m             \u001b[0mci\u001b[0m\u001b[1;33m,\u001b[0m \u001b[0mti\u001b[0m \u001b[1;33m=\u001b[0m \u001b[0m_lin_eq2dict\u001b[0m\u001b[1;33m(\u001b[0m\u001b[0mai\u001b[0m\u001b[1;33m,\u001b[0m \u001b[0msymset\u001b[0m\u001b[1;33m)\u001b[0m\u001b[1;33m\u001b[0m\u001b[1;33m\u001b[0m\u001b[0m\n\u001b[0m\u001b[0;32m    174\u001b[0m             \u001b[0mcoeff_list\u001b[0m\u001b[1;33m.\u001b[0m\u001b[0mappend\u001b[0m\u001b[1;33m(\u001b[0m\u001b[0mci\u001b[0m\u001b[1;33m)\u001b[0m\u001b[1;33m\u001b[0m\u001b[1;33m\u001b[0m\u001b[0m\n",
      "\u001b[1;32m~\\anaconda3\\lib\\site-packages\\sympy\\polys\\matrices\\linsolve.py\u001b[0m in \u001b[0;36m_lin_eq2dict\u001b[1;34m(a, symset)\u001b[0m\n\u001b[0;32m    183\u001b[0m         \u001b[1;32mfor\u001b[0m \u001b[0mai\u001b[0m \u001b[1;32min\u001b[0m \u001b[0ma\u001b[0m\u001b[1;33m.\u001b[0m\u001b[0margs\u001b[0m\u001b[1;33m:\u001b[0m\u001b[1;33m\u001b[0m\u001b[1;33m\u001b[0m\u001b[0m\n\u001b[1;32m--> 184\u001b[1;33m             \u001b[0mci\u001b[0m\u001b[1;33m,\u001b[0m \u001b[0mti\u001b[0m \u001b[1;33m=\u001b[0m \u001b[0m_lin_eq2dict\u001b[0m\u001b[1;33m(\u001b[0m\u001b[0mai\u001b[0m\u001b[1;33m,\u001b[0m \u001b[0msymset\u001b[0m\u001b[1;33m)\u001b[0m\u001b[1;33m\u001b[0m\u001b[1;33m\u001b[0m\u001b[0m\n\u001b[0m\u001b[0;32m    185\u001b[0m             \u001b[1;32mif\u001b[0m \u001b[1;32mnot\u001b[0m \u001b[0mti\u001b[0m\u001b[1;33m:\u001b[0m\u001b[1;33m\u001b[0m\u001b[1;33m\u001b[0m\u001b[0m\n",
      "\u001b[1;32m~\\anaconda3\\lib\\site-packages\\sympy\\polys\\matrices\\linsolve.py\u001b[0m in \u001b[0;36m_lin_eq2dict\u001b[1;34m(a, symset)\u001b[0m\n\u001b[0;32m    202\u001b[0m     \u001b[1;32melse\u001b[0m\u001b[1;33m:\u001b[0m\u001b[1;33m\u001b[0m\u001b[1;33m\u001b[0m\u001b[0m\n\u001b[1;32m--> 203\u001b[1;33m         \u001b[1;32mraise\u001b[0m \u001b[0mPolyNonlinearError\u001b[0m\u001b[1;33m\u001b[0m\u001b[1;33m\u001b[0m\u001b[0m\n\u001b[0m",
      "\u001b[1;31mPolyNonlinearError\u001b[0m: ",
      "\nDuring handling of the above exception, another exception occurred:\n",
      "\u001b[1;31mNonlinearError\u001b[0m                            Traceback (most recent call last)",
      "\u001b[1;32m<ipython-input-48-d4129b676bb4>\u001b[0m in \u001b[0;36m<module>\u001b[1;34m\u001b[0m\n\u001b[0;32m      8\u001b[0m \u001b[0mpartial_y\u001b[0m \u001b[1;33m=\u001b[0m \u001b[0mf_x_y\u001b[0m\u001b[1;33m.\u001b[0m\u001b[0mdiff\u001b[0m\u001b[1;33m(\u001b[0m\u001b[0my\u001b[0m\u001b[1;33m)\u001b[0m\u001b[1;33m\u001b[0m\u001b[1;33m\u001b[0m\u001b[0m\n\u001b[0;32m      9\u001b[0m \u001b[1;33m\u001b[0m\u001b[0m\n\u001b[1;32m---> 10\u001b[1;33m \u001b[0mresults\u001b[0m \u001b[1;33m=\u001b[0m \u001b[0mlinsolve\u001b[0m\u001b[1;33m(\u001b[0m\u001b[1;33m[\u001b[0m\u001b[0mpartial_x\u001b[0m\u001b[1;33m,\u001b[0m \u001b[0mpartial_y\u001b[0m\u001b[1;33m]\u001b[0m\u001b[1;33m,\u001b[0m \u001b[0mx\u001b[0m\u001b[1;33m,\u001b[0m \u001b[0my\u001b[0m\u001b[1;33m)\u001b[0m\u001b[1;33m\u001b[0m\u001b[1;33m\u001b[0m\u001b[0m\n\u001b[0m\u001b[0;32m     11\u001b[0m \u001b[1;33m\u001b[0m\u001b[0m\n\u001b[0;32m     12\u001b[0m \u001b[0mprint\u001b[0m\u001b[1;33m(\u001b[0m\u001b[1;34mf\"The x and y value for critical points are {results}\"\u001b[0m\u001b[1;33m)\u001b[0m\u001b[1;33m\u001b[0m\u001b[1;33m\u001b[0m\u001b[0m\n",
      "\u001b[1;32m~\\anaconda3\\lib\\site-packages\\sympy\\solvers\\solveset.py\u001b[0m in \u001b[0;36mlinsolve\u001b[1;34m(system, *symbols)\u001b[0m\n\u001b[0;32m   2778\u001b[0m             \u001b[1;32mexcept\u001b[0m \u001b[0mPolyNonlinearError\u001b[0m \u001b[1;32mas\u001b[0m \u001b[0mexc\u001b[0m\u001b[1;33m:\u001b[0m\u001b[1;33m\u001b[0m\u001b[1;33m\u001b[0m\u001b[0m\n\u001b[0;32m   2779\u001b[0m                 \u001b[1;31m# e.g. cos(x) contains an element of the set of generators\u001b[0m\u001b[1;33m\u001b[0m\u001b[1;33m\u001b[0m\u001b[1;33m\u001b[0m\u001b[0m\n\u001b[1;32m-> 2780\u001b[1;33m                 \u001b[1;32mraise\u001b[0m \u001b[0mNonlinearError\u001b[0m\u001b[1;33m(\u001b[0m\u001b[0mstr\u001b[0m\u001b[1;33m(\u001b[0m\u001b[0mexc\u001b[0m\u001b[1;33m)\u001b[0m\u001b[1;33m)\u001b[0m\u001b[1;33m\u001b[0m\u001b[1;33m\u001b[0m\u001b[0m\n\u001b[0m\u001b[0;32m   2781\u001b[0m \u001b[1;33m\u001b[0m\u001b[0m\n\u001b[0;32m   2782\u001b[0m             \u001b[1;32mif\u001b[0m \u001b[0msol\u001b[0m \u001b[1;32mis\u001b[0m \u001b[1;32mNone\u001b[0m\u001b[1;33m:\u001b[0m\u001b[1;33m\u001b[0m\u001b[1;33m\u001b[0m\u001b[0m\n",
      "\u001b[1;31mNonlinearError\u001b[0m: "
     ]
    }
   ],
   "source": [
    "#Don't Use this one. Use option 2.\n",
    "from sympy import symbols, S, linsolve\n",
    "\n",
    "x, y = symbols('x, y')\n",
    "\n",
    "#Enter Function Below:\n",
    "f_x_y = -x**2 - y**2 + 4*x + 8*y\n",
    "partial_x = f_x_y.diff(x)\n",
    "partial_y = f_x_y.diff(y)\n",
    "\n",
    "results = linsolve([partial_x, partial_y], x, y)\n",
    "\n",
    "print(f\"The x and y value for critical points are {results}\")\n"
   ]
  },
  {
   "cell_type": "markdown",
   "id": "d78ffde2",
   "metadata": {},
   "source": [
    "We now want to see if the critical point we've found is a relative maxima, minima, saddle point, or none of them. We do this by calculating the discriminant D. "
   ]
  },
  {
   "cell_type": "code",
   "execution_count": 140,
   "id": "080d1b4b",
   "metadata": {},
   "outputs": [
    {
     "name": "stdout",
     "output_type": "stream",
     "text": [
      "The discriminant of our critical value is -369\n",
      "This is a saddle point\n"
     ]
    }
   ],
   "source": [
    "from sympy import lambdify, Abs\n",
    "\n",
    "def D(func, x_sym, y_sym, x_crit, y_crit):\n",
    "    # Calculate the discriminant for a given function\n",
    "    f_x_x = func.diff(x_sym, x_sym)\n",
    "    f_y_y = func.diff(y_sym, y_sym)\n",
    "    f_x_y = func.diff(x_sym, y_sym)\n",
    "    \n",
    "    # Create callable functions for each of the derivitives we created\n",
    "    lambd_x_x = lambdify([x_sym, y_sym], f_x_x)\n",
    "    lambd_y_y = lambdify([x_sym, y_sym], f_y_y)\n",
    "    lambd_x_y = lambdify([x_sym, y_sym], f_x_y)\n",
    "\n",
    "    fxx_ab = lambd_x_x(x_crit, y_crit)\n",
    "    fyy_ab = lambd_y_y(x_crit, y_crit) \n",
    "    fxy_ab = lambd_x_y(x_crit, y_crit)\n",
    "\n",
    "    d = fxx_ab * fyy_ab - Abs(fxy_ab)**2\n",
    "\n",
    "    print(f\"The discriminant of our critical value is {d}\")\n",
    "\n",
    "    if d < 0:\n",
    "        print(\"This is a saddle point\")\n",
    "    elif d > 0:\n",
    "        if fxx_ab < 0:\n",
    "            print(\"This is relative maxima\")\n",
    "        else:\n",
    "            print(\"This is a relative minima\")\n",
    "    \n",
    "\n",
    "# Call our new function and pass in the values\n",
    "D(f_x_y, x, y, -2, -1)"
   ]
  },
  {
   "cell_type": "code",
   "execution_count": 148,
   "id": "1f410b67",
   "metadata": {},
   "outputs": [
    {
     "name": "stdout",
     "output_type": "stream",
     "text": [
      "The x and y value for critical points are FiniteSet((1/(2*log(2)) - I*sqrt(-1 + 8*log(2))*sqrt(1 + 8*log(2))/(2*log(2)), y), (1/(2*log(2)) + I*sqrt(-1 + 8*log(2))*sqrt(1 + 8*log(2))/(2*log(2)), y))\n"
     ]
    }
   ],
   "source": [
    "#Option 2 for non-real numbers:\n",
    "from sympy import symbols, S, nonlinsolve\n",
    "\n",
    "x, y = symbols('x, y', real=True)\n",
    "\n",
    "f_x_y = (x**2 + 16)/(4**x)\n",
    "partial_x = f_x_y.diff(x)\n",
    "partial_y = f_x_y.diff(y)\n",
    "\n",
    "# Get nonlinear solution and remove imaginary numbers\n",
    "results = nonlinsolve([partial_x, partial_y], [x, y])\n",
    "\n",
    "print(f\"The x and y value for critical points are {results}\")\n",
    "\n",
    "for result in list(results):\n",
    "    if result[0].is_real and result[1].is_real:  # Ignore any solutions that are not real numbers\n",
    "        print(f\"Analyzing critical point {result}\")\n",
    "        D(f_x_y, x, y, result[0], result[1])"
   ]
  },
  {
   "cell_type": "markdown",
   "id": "b33405ad",
   "metadata": {},
   "source": [
    "# Lagrange Multipliers"
   ]
  },
  {
   "cell_type": "markdown",
   "id": "981eca0e",
   "metadata": {},
   "source": [
    "Suppose we want to maximize the area of a rectangle x/y with the function f(x, y) = x *y\n",
    "\n",
    "This is constrained however by the function:\n",
    "\n",
    "g(x, y) = xy + 20y + 20x + 474000 = 500000\n",
    "\n",
    "We first set our constraint equal to zero, and then solve for x and y."
   ]
  },
  {
   "cell_type": "code",
   "execution_count": 47,
   "id": "f1a3acc7",
   "metadata": {},
   "outputs": [
    {
     "name": "stdout",
     "output_type": "stream",
     "text": [
      "Max value of x is 142.480768092719\n",
      "Max value of y is 142.480768092719\n",
      "Max area is of (142.480768092719, 142.480768092719) is 20300.7692762912\n",
      "Max value of x is -182.480768092719\n",
      "Max value of y is -182.480768092719\n",
      "Max area is of (-182.480768092719, -182.480768092719) is 33299.2307237088\n"
     ]
    }
   ],
   "source": [
    "from sympy import symbols, nonlinsolve, nsimplify, expand, powsimp\n",
    "\n",
    "x, y, l = symbols('x, y, l', real=True)\n",
    "\n",
    "f_xy = -x**2 - y**2 + 4*x + 8*y\n",
    "g_xy = x * y + 20 * y + 20 * x + 474000 - 500000  # Constraint is equal to zero when subtracting right side\n",
    "\n",
    "# Implement lagrange function and solve system\n",
    "f_xyl = f_xy - l *g_xy\n",
    "f_xyl_x = f_xyl.diff(x)\n",
    "f_xyl_y = f_xyl.diff(y)\n",
    "f_xyl_l = f_xyl.diff(l)\n",
    "\n",
    "results = nonlinsolve([\n",
    "    f_xyl_x,\n",
    "    f_xyl_y,\n",
    "    f_xyl_l,\n",
    "], [x, y, l])\n",
    "\n",
    "# Analyze each of the solutions\n",
    "for sol in list(results):\n",
    "    x_sol, y_sol, l_sol = sol\n",
    "\n",
    "    x_sol = x_sol.evalf()  # Evaluate the value so we're not getting sqrt equation\n",
    "    y_sol = y_sol.evalf()\n",
    "    print(f\"Max value of x is {x_sol}\")\n",
    "    print(f\"Max value of y is {y_sol}\")\n",
    "\n",
    "    print(f\"Max area is of ({x_sol}, {y_sol}) is {x_sol * y_sol}\")"
   ]
  },
  {
   "cell_type": "code",
   "execution_count": null,
   "id": "615d49aa",
   "metadata": {},
   "outputs": [],
   "source": []
  },
  {
   "cell_type": "code",
   "execution_count": 137,
   "id": "f5da73c0",
   "metadata": {},
   "outputs": [
    {
     "ename": "AttributeError",
     "evalue": "'numpy.ndarray' object has no attribute 'diff'",
     "output_type": "error",
     "traceback": [
      "\u001b[1;31m---------------------------------------------------------------------------\u001b[0m",
      "\u001b[1;31mAttributeError\u001b[0m                            Traceback (most recent call last)",
      "\u001b[1;32m<ipython-input-137-4814f1355fdd>\u001b[0m in \u001b[0;36m<module>\u001b[1;34m\u001b[0m\n\u001b[0;32m      1\u001b[0m \u001b[0mf_x\u001b[0m \u001b[1;33m=\u001b[0m \u001b[1;33m(\u001b[0m\u001b[0mx\u001b[0m\u001b[1;33m**\u001b[0m\u001b[1;36m2\u001b[0m \u001b[1;33m+\u001b[0m \u001b[1;36m16\u001b[0m\u001b[1;33m)\u001b[0m\u001b[1;33m/\u001b[0m\u001b[1;33m(\u001b[0m\u001b[1;36m4\u001b[0m\u001b[1;33m**\u001b[0m\u001b[0mx\u001b[0m\u001b[1;33m)\u001b[0m\u001b[1;33m\u001b[0m\u001b[1;33m\u001b[0m\u001b[0m\n\u001b[1;32m----> 2\u001b[1;33m \u001b[0mderivative\u001b[0m \u001b[1;33m=\u001b[0m \u001b[0mf_x\u001b[0m\u001b[1;33m.\u001b[0m\u001b[0mdiff\u001b[0m\u001b[1;33m(\u001b[0m\u001b[0mx\u001b[0m\u001b[1;33m)\u001b[0m\u001b[1;33m\u001b[0m\u001b[1;33m\u001b[0m\u001b[0m\n\u001b[0m",
      "\u001b[1;31mAttributeError\u001b[0m: 'numpy.ndarray' object has no attribute 'diff'"
     ]
    }
   ],
   "source": [
    "f_x = (x**2 + 16)/(4**x)\n",
    "derivative = f_x.diff(x)"
   ]
  },
  {
   "cell_type": "code",
   "execution_count": null,
   "id": "208f5f9c",
   "metadata": {},
   "outputs": [],
   "source": []
  }
 ],
 "metadata": {
  "kernelspec": {
   "display_name": "Python 3",
   "language": "python",
   "name": "python3"
  },
  "language_info": {
   "codemirror_mode": {
    "name": "ipython",
    "version": 3
   },
   "file_extension": ".py",
   "mimetype": "text/x-python",
   "name": "python",
   "nbconvert_exporter": "python",
   "pygments_lexer": "ipython3",
   "version": "3.8.8"
  }
 },
 "nbformat": 4,
 "nbformat_minor": 5
}

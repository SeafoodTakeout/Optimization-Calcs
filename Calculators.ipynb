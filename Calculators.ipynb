{
 "cells": [
  {
   "cell_type": "markdown",
   "id": "c650978b",
   "metadata": {},
   "source": [
    "Appendix:\n",
    "    -Slope & Y-intercept (Linear)\n",
    "    -Solve Linear Function (y=mx+b)\n",
    "    -Break Even Calculator\n",
    "    -Correlation Coefficient (Vector)\n",
    "    -Solving Linear Systems Calculator\n",
    "    -Matrix Inverse Calculator (+ identity and solve) "
   ]
  },
  {
   "cell_type": "markdown",
   "id": "f7df7514",
   "metadata": {},
   "source": [
    "# Slope and Y-intercept (linear)"
   ]
  },
  {
   "cell_type": "code",
   "execution_count": 98,
   "id": "2f4ecd46",
   "metadata": {},
   "outputs": [],
   "source": [
    "def getSlope(x1, y1, x2, y2):\n",
    "    slope = (y2-y1)/(x2-x1)\n",
    "    return slope\n",
    "\n",
    "def getYInt(x1, y1, x2, y2):\n",
    "    m=getSlope(x1,y1,x2,y2)\n",
    "    b=y1-m*x1\n",
    "    return print((0,b))"
   ]
  },
  {
   "cell_type": "code",
   "execution_count": 99,
   "id": "38a1d0eb",
   "metadata": {},
   "outputs": [
    {
     "data": {
      "text/plain": [
       "30.714285714285715"
      ]
     },
     "execution_count": 99,
     "metadata": {},
     "output_type": "execute_result"
    }
   ],
   "source": [
    "#Input for slope here:\n",
    "getSlope(0, 0, 7, 215)"
   ]
  },
  {
   "cell_type": "code",
   "execution_count": 101,
   "id": "c0cb84bf",
   "metadata": {},
   "outputs": [
    {
     "name": "stdout",
     "output_type": "stream",
     "text": [
      "(0, 0.0)\n"
     ]
    }
   ],
   "source": [
    "#Input for Y-intercept here:\n",
    "getYInt(0, 0, 7, 215)\n",
    "#(0,b)"
   ]
  },
  {
   "cell_type": "markdown",
   "id": "e424985b",
   "metadata": {},
   "source": [
    "# Solve Linear Function (y=mx+b)"
   ]
  },
  {
   "cell_type": "code",
   "execution_count": 30,
   "id": "54acf714",
   "metadata": {},
   "outputs": [
    {
     "name": "stdout",
     "output_type": "stream",
     "text": [
      "Enter Slope): 1.24\n",
      "Enter x of f(x): 340\n",
      "Enter Y-intercept: 400\n"
     ]
    }
   ],
   "source": [
    "from math import *\n",
    "m = float(input(\"Enter Slope): \"))\n",
    "x = float(input(\"Enter x of f(x): \"))\n",
    "b = float(input(\"Enter Y-intercept: \"))"
   ]
  },
  {
   "cell_type": "code",
   "execution_count": 35,
   "id": "9e282cfa",
   "metadata": {
    "scrolled": false
   },
   "outputs": [
    {
     "name": "stdout",
     "output_type": "stream",
     "text": [
      "821.6\n",
      "(340.0, 821.6)\n"
     ]
    }
   ],
   "source": [
    "y=m*x+b\n",
    "print (y)\n",
    "#ordered pair\n",
    "print ((x,y))"
   ]
  },
  {
   "cell_type": "markdown",
   "id": "8af33761",
   "metadata": {},
   "source": [
    "Reverse Operation:\n",
    "Finding x value from f(x)."
   ]
  },
  {
   "cell_type": "code",
   "execution_count": 36,
   "id": "294968bf",
   "metadata": {},
   "outputs": [
    {
     "name": "stdout",
     "output_type": "stream",
     "text": [
      "Enter f(x) value:1416.8\n",
      "Enter Slope): 1.24\n",
      "Enter Y-intercept: 400\n"
     ]
    }
   ],
   "source": [
    "#f(x)=y\n",
    "y = float(input(\"Enter f(x) value:\"))\n",
    "m = float(input(\"Enter Slope): \"))\n",
    "b = float(input(\"Enter Y-intercept: \"))"
   ]
  },
  {
   "cell_type": "code",
   "execution_count": 37,
   "id": "7e3d7203",
   "metadata": {},
   "outputs": [
    {
     "name": "stdout",
     "output_type": "stream",
     "text": [
      "820.0\n",
      "(820.0, 1416.8)\n"
     ]
    }
   ],
   "source": [
    "x=(y-b)/m\n",
    "print (x)\n",
    "#ordered pair\n",
    "print ((x,y))"
   ]
  },
  {
   "cell_type": "markdown",
   "id": "7251495e",
   "metadata": {},
   "source": [
    "# Break Even Calculator"
   ]
  },
  {
   "cell_type": "code",
   "execution_count": 81,
   "id": "ba86e79a",
   "metadata": {},
   "outputs": [],
   "source": [
    "from sympy import Symbol, Derivative, integrate\n",
    "import math"
   ]
  },
  {
   "cell_type": "code",
   "execution_count": 87,
   "id": "635e259b",
   "metadata": {},
   "outputs": [
    {
     "name": "stdout",
     "output_type": "stream",
     "text": [
      "Enter fixed cost: 530\n",
      "Enter variable cost: 2.3\n",
      "Enter revenue (price): 4.90\n"
     ]
    }
   ],
   "source": [
    "#Calculate C(x), R(x), P(x) (Cost Function)\n",
    "b = float(input(\"Enter fixed cost: \"))\n",
    "m = float(input(\"Enter variable cost: \"))\n",
    "R = float(input(\"Enter revenue (price): \"))\n",
    "x = Symbol('x')"
   ]
  },
  {
   "cell_type": "code",
   "execution_count": 88,
   "id": "bf20282c",
   "metadata": {
    "scrolled": false
   },
   "outputs": [
    {
     "name": "stdout",
     "output_type": "stream",
     "text": [
      "2.3*x+530.0\n",
      "4.9*x\n",
      "2.6000000000000005*x+530.0\n",
      "2.6*x - 530.0\n"
     ]
    }
   ],
   "source": [
    "#C(x) Cost Function\n",
    "print (f\"{m}*{x}+{b}\")\n",
    "#R(x) Revenue Function\n",
    "print (R*x)\n",
    "#P(x) Profit Function\n",
    "p = R-m\n",
    "print (f\"{p}*x+{b}\")\n",
    "print (p*x-b)"
   ]
  },
  {
   "cell_type": "code",
   "execution_count": 89,
   "id": "33ec202c",
   "metadata": {},
   "outputs": [
    {
     "name": "stdout",
     "output_type": "stream",
     "text": [
      "203.8461538461538\n"
     ]
    }
   ],
   "source": [
    "break_even = b/p\n",
    "\n",
    "print (break_even)"
   ]
  },
  {
   "cell_type": "code",
   "execution_count": 90,
   "id": "7ab08c63",
   "metadata": {},
   "outputs": [
    {
     "name": "stdout",
     "output_type": "stream",
     "text": [
      "973.0769230769229\n"
     ]
    }
   ],
   "source": [
    "#Enter Profit\n",
    "pfunc = 2000\n",
    "number =(pfunc+b)/p\n",
    "print(number)\n"
   ]
  },
  {
   "cell_type": "markdown",
   "id": "e201b088",
   "metadata": {},
   "source": [
    "# Correlation Coefficient (from vectors)"
   ]
  },
  {
   "cell_type": "code",
   "execution_count": 110,
   "id": "6e7d38a0",
   "metadata": {},
   "outputs": [
    {
     "name": "stdout",
     "output_type": "stream",
     "text": [
      "slope =  29.798\n",
      "intercept =  11.83\n",
      "The death rate in 2020 will be approximately 339.61 per 100,000 population.\n",
      "correlation coefficient =  0.9889\n"
     ]
    }
   ],
   "source": [
    "from scipy import stats\n",
    "x = [0, 1, 2, 3, 4, 5, 6, 7]\n",
    "y = [0, 44, 86, 111, 120, 150, 202, 216]\n",
    "slope, intercept, r_value, p_value, std_err = stats.linregress(x, y)\n",
    "\n",
    "#Below is for prediction given 'x'\n",
    "predict_2020 = 11 * slope + intercept\n",
    "\n",
    "print(\"slope = \", round(slope, 3))\n",
    "print(\"intercept = \", round(intercept, 2))\n",
    "print(\"The death rate in 2020 will be approximately\", round(predict_2020, 2), \"per 100,000 population.\")\n",
    "print(\"correlation coefficient = \", round(r_value, 4))"
   ]
  },
  {
   "cell_type": "markdown",
   "id": "bc8f7cda",
   "metadata": {},
   "source": [
    "# Solving Linear Systems Calculator"
   ]
  },
  {
   "cell_type": "markdown",
   "id": "0c529798",
   "metadata": {},
   "source": [
    "Example:\n",
    "\n",
    "4x+3y-5z=2\n",
    "-2x-4y+5=5\n",
    "8x+8y=-3\n",
    "\n",
    "Note: fill in zero \"0\" for missing values\n",
    "\n",
    "A = np.array([[4, 3, -5], \n",
    "              [-2, -4, 5], \n",
    "              [8, 8, 0]])\n",
    "y = np.array([2, 5, -3])"
   ]
  },
  {
   "cell_type": "code",
   "execution_count": 111,
   "id": "eb960712",
   "metadata": {},
   "outputs": [
    {
     "name": "stdout",
     "output_type": "stream",
     "text": [
      "[45. 70. 95.]\n"
     ]
    }
   ],
   "source": [
    "import numpy as np\n",
    "\n",
    "A = np.array([[1, 1, 1], \n",
    "              [15, 20, 25], \n",
    "              [11, 18, 34]])\n",
    "y = np.array([210, 4450, 4985])\n",
    "\n",
    "x = np.linalg.solve(A, y)\n",
    "print(x)"
   ]
  },
  {
   "cell_type": "markdown",
   "id": "c265146d",
   "metadata": {},
   "source": [
    "# Matrix Inverses"
   ]
  },
  {
   "cell_type": "code",
   "execution_count": 114,
   "id": "9d4d7be1",
   "metadata": {},
   "outputs": [],
   "source": [
    "import numpy as np\n",
    "from numpy.linalg import linalg, inv"
   ]
  },
  {
   "cell_type": "code",
   "execution_count": 117,
   "id": "78d626f8",
   "metadata": {},
   "outputs": [
    {
     "name": "stdout",
     "output_type": "stream",
     "text": [
      "\n",
      "Right Hand Side of Equation\n",
      "[[96]\n",
      " [87]\n",
      " [74]]\n",
      "\n",
      "Matrix A\n",
      "[[ 1  2  0]\n",
      " [-2 -3  5]\n",
      " [ 0  0  1]]\n"
     ]
    }
   ],
   "source": [
    "#Below is for values of matrix.\n",
    "rhs = [96, 87, 74]\n",
    "rhs = np.matrix(rhs)\n",
    "rhs = np.transpose(rhs)\n",
    "print('\\nRight Hand Side of Equation')\n",
    "print(rhs)\n",
    "\n",
    "#Below is for matrix\n",
    "A = [[1, 2, 0], [-2, -3, 5], [0, 0, 1]]\n",
    "A = np.matrix(A)\n",
    "print('\\nMatrix A')\n",
    "print(A)"
   ]
  },
  {
   "cell_type": "code",
   "execution_count": 118,
   "id": "4f1fd63b",
   "metadata": {},
   "outputs": [
    {
     "name": "stdout",
     "output_type": "stream",
     "text": [
      "\n",
      "Inverse of A\n",
      "[[-3. -2. 10.]\n",
      " [ 2.  1. -5.]\n",
      " [ 0.  0.  1.]]\n"
     ]
    }
   ],
   "source": [
    "#Find Inverse of Matrix a here:\n",
    "print('\\nInverse of A')\n",
    "IA = inv(A)\n",
    "print(IA)"
   ]
  },
  {
   "cell_type": "code",
   "execution_count": null,
   "id": "2464205a",
   "metadata": {},
   "outputs": [],
   "source": [
    "#identity Matrix\n",
    "print('\\nIdentity Matrix')\n",
    "I = np.dot(IA, A)\n",
    "I = np.rint(I)               # This converts floating point to integer.\n",
    "print(I)"
   ]
  },
  {
   "cell_type": "code",
   "execution_count": null,
   "id": "dbb4a81c",
   "metadata": {},
   "outputs": [],
   "source": [
    "#Solve Matrix\n",
    "print('\\Illustration of solution with linalg.solve(,) function')\n",
    "result2 = linalg.solve(A, rhs)\n",
    "print(np.rint(result2))    # This converts floating point to integer."
   ]
  },
  {
   "cell_type": "code",
   "execution_count": null,
   "id": "0984abed",
   "metadata": {},
   "outputs": [],
   "source": [
    "#Solve matrix (option 2)\n",
    "result = np.dot(IA, rhs)\n",
    "result = np.rint(result)    # This converts floating point to integer.\n",
    "print('\\n Solution to Problem')\n",
    "print(result)"
   ]
  }
 ],
 "metadata": {
  "kernelspec": {
   "display_name": "Python 3",
   "language": "python",
   "name": "python3"
  },
  "language_info": {
   "codemirror_mode": {
    "name": "ipython",
    "version": 3
   },
   "file_extension": ".py",
   "mimetype": "text/x-python",
   "name": "python",
   "nbconvert_exporter": "python",
   "pygments_lexer": "ipython3",
   "version": "3.8.8"
  }
 },
 "nbformat": 4,
 "nbformat_minor": 5
}

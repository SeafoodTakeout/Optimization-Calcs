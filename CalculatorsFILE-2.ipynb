{
 "cells": [
  {
   "cell_type": "code",
   "execution_count": 1,
   "id": "33bb50f3",
   "metadata": {
    "scrolled": true
   },
   "outputs": [
    {
     "name": "stdout",
     "output_type": "stream",
     "text": [
      "Requirement already satisfied: sympy in c:\\users\\16095\\anaconda3\\lib\\site-packages (1.8)\n",
      "Requirement already satisfied: mpmath>=0.19 in c:\\users\\16095\\anaconda3\\lib\\site-packages (from sympy) (1.2.1)\n",
      "Note: you may need to restart the kernel to use updated packages.\n"
     ]
    }
   ],
   "source": [
    "pip install sympy"
   ]
  },
  {
   "cell_type": "code",
   "execution_count": null,
   "id": "bffef614",
   "metadata": {},
   "outputs": [],
   "source": [
    "Appendix:\n",
    "    - Derivative Calculator\n",
    "    - Min/Max Calculator\n",
    "    - Integration Calculator\n",
    "    - Definite Integration Calculator\n",
    "    - Solving Equations\n",
    "    - Uniform Distribution Calculator\n",
    "    - Exponential Distribution Calculator"
   ]
  },
  {
   "cell_type": "markdown",
   "id": "173b937f",
   "metadata": {},
   "source": [
    "# Derivative Calculator"
   ]
  },
  {
   "cell_type": "markdown",
   "id": "63e43b1b",
   "metadata": {},
   "source": [
    "The Python code below calculates the derivative of this function"
   ]
  },
  {
   "cell_type": "code",
   "execution_count": 168,
   "id": "c3e199dc",
   "metadata": {},
   "outputs": [],
   "source": [
    "from sympy import Symbol, Derivative, integrate\n",
    "import math"
   ]
  },
  {
   "cell_type": "code",
   "execution_count": 177,
   "id": "140271c2",
   "metadata": {},
   "outputs": [
    {
     "ename": "TypeError",
     "evalue": "can't convert expression to float",
     "output_type": "error",
     "traceback": [
      "\u001b[1;31m---------------------------------------------------------------------------\u001b[0m",
      "\u001b[1;31mTypeError\u001b[0m                                 Traceback (most recent call last)",
      "\u001b[1;32m<ipython-input-177-a3c1529c968a>\u001b[0m in \u001b[0;36m<module>\u001b[1;34m\u001b[0m\n\u001b[0;32m      1\u001b[0m \u001b[0mx\u001b[0m \u001b[1;33m=\u001b[0m \u001b[0mSymbol\u001b[0m\u001b[1;33m(\u001b[0m\u001b[1;34m'x'\u001b[0m\u001b[1;33m)\u001b[0m\u001b[1;33m\u001b[0m\u001b[1;33m\u001b[0m\u001b[0m\n\u001b[0;32m      2\u001b[0m \u001b[1;33m\u001b[0m\u001b[0m\n\u001b[1;32m----> 3\u001b[1;33m \u001b[0mfunction\u001b[0m\u001b[1;33m=\u001b[0m \u001b[0mfloat\u001b[0m\u001b[1;33m(\u001b[0m\u001b[1;36m505\u001b[0m\u001b[1;33m*\u001b[0m\u001b[0mexp\u001b[0m\u001b[1;33m(\u001b[0m\u001b[1;33m-\u001b[0m\u001b[1;36m0.37\u001b[0m\u001b[1;33m*\u001b[0m\u001b[0mx\u001b[0m\u001b[1;33m)\u001b[0m\u001b[1;33m)\u001b[0m\u001b[1;33m\u001b[0m\u001b[1;33m\u001b[0m\u001b[0m\n\u001b[0m\u001b[0;32m      4\u001b[0m \u001b[1;33m\u001b[0m\u001b[0m\n\u001b[0;32m      5\u001b[0m \u001b[0mderiv\u001b[0m\u001b[1;33m=\u001b[0m \u001b[0mDerivative\u001b[0m\u001b[1;33m(\u001b[0m\u001b[0mfunction\u001b[0m\u001b[1;33m,\u001b[0m \u001b[0mx\u001b[0m\u001b[1;33m)\u001b[0m\u001b[1;33m\u001b[0m\u001b[1;33m\u001b[0m\u001b[0m\n",
      "\u001b[1;32m~\\anaconda3\\lib\\site-packages\\sympy\\core\\expr.py\u001b[0m in \u001b[0;36m__float__\u001b[1;34m(self)\u001b[0m\n\u001b[0;32m    356\u001b[0m         \u001b[1;32mif\u001b[0m \u001b[0mresult\u001b[0m\u001b[1;33m.\u001b[0m\u001b[0mis_number\u001b[0m \u001b[1;32mand\u001b[0m \u001b[0mresult\u001b[0m\u001b[1;33m.\u001b[0m\u001b[0mas_real_imag\u001b[0m\u001b[1;33m(\u001b[0m\u001b[1;33m)\u001b[0m\u001b[1;33m[\u001b[0m\u001b[1;36m1\u001b[0m\u001b[1;33m]\u001b[0m\u001b[1;33m:\u001b[0m\u001b[1;33m\u001b[0m\u001b[1;33m\u001b[0m\u001b[0m\n\u001b[0;32m    357\u001b[0m             \u001b[1;32mraise\u001b[0m \u001b[0mTypeError\u001b[0m\u001b[1;33m(\u001b[0m\u001b[1;34m\"can't convert complex to float\"\u001b[0m\u001b[1;33m)\u001b[0m\u001b[1;33m\u001b[0m\u001b[1;33m\u001b[0m\u001b[0m\n\u001b[1;32m--> 358\u001b[1;33m         \u001b[1;32mraise\u001b[0m \u001b[0mTypeError\u001b[0m\u001b[1;33m(\u001b[0m\u001b[1;34m\"can't convert expression to float\"\u001b[0m\u001b[1;33m)\u001b[0m\u001b[1;33m\u001b[0m\u001b[1;33m\u001b[0m\u001b[0m\n\u001b[0m\u001b[0;32m    359\u001b[0m \u001b[1;33m\u001b[0m\u001b[0m\n\u001b[0;32m    360\u001b[0m     \u001b[1;32mdef\u001b[0m \u001b[0m__complex__\u001b[0m\u001b[1;33m(\u001b[0m\u001b[0mself\u001b[0m\u001b[1;33m)\u001b[0m\u001b[1;33m:\u001b[0m\u001b[1;33m\u001b[0m\u001b[1;33m\u001b[0m\u001b[0m\n",
      "\u001b[1;31mTypeError\u001b[0m: can't convert expression to float"
     ]
    }
   ],
   "source": [
    "x = Symbol('x')\n",
    "\n",
    "function=(505*exp(-0.37*x))\n",
    "\n",
    "deriv= Derivative(function, x)\n",
    "deriv\n",
    "deriv.doit()"
   ]
  },
  {
   "cell_type": "code",
   "execution_count": 172,
   "id": "dfd8e793",
   "metadata": {},
   "outputs": [
    {
     "data": {
      "text/plain": [
       "-0.016649999999999998"
      ]
     },
     "execution_count": 172,
     "metadata": {},
     "output_type": "execute_result"
    }
   ],
   "source": [
    "#Solve for x:\n",
    "x = 8\n",
    "#type derivative:\n",
    "funct = (((-6*x-1)*(5*x-6))/((3*(x**2)+x)**2))+(5/(3*(x**2)+x))\n",
    "funct"
   ]
  },
  {
   "cell_type": "code",
   "execution_count": 55,
   "id": "f5422c8f",
   "metadata": {},
   "outputs": [
    {
     "ename": "NameError",
     "evalue": "name 'ln' is not defined",
     "output_type": "error",
     "traceback": [
      "\u001b[1;31m---------------------------------------------------------------------------\u001b[0m",
      "\u001b[1;31mNameError\u001b[0m                                 Traceback (most recent call last)",
      "\u001b[1;32m<ipython-input-55-46f317c7ed93>\u001b[0m in \u001b[0;36m<module>\u001b[1;34m\u001b[0m\n\u001b[0;32m      1\u001b[0m \u001b[0mx\u001b[0m \u001b[1;33m=\u001b[0m \u001b[0mSymbol\u001b[0m\u001b[1;33m(\u001b[0m\u001b[1;34m'x'\u001b[0m\u001b[1;33m)\u001b[0m\u001b[1;33m\u001b[0m\u001b[1;33m\u001b[0m\u001b[0m\n\u001b[0;32m      2\u001b[0m \u001b[1;33m\u001b[0m\u001b[0m\n\u001b[1;32m----> 3\u001b[1;33m \u001b[0mfunction\u001b[0m\u001b[1;33m=\u001b[0m \u001b[1;36m76\u001b[0m\u001b[1;33m*\u001b[0m\u001b[1;33m(\u001b[0m\u001b[0mln\u001b[0m\u001b[1;33m(\u001b[0m\u001b[0mx\u001b[0m\u001b[1;33m+\u001b[0m\u001b[1;36m1\u001b[0m\u001b[1;33m)\u001b[0m\u001b[1;33m)\u001b[0m\u001b[1;33m/\u001b[0m\u001b[1;33m(\u001b[0m\u001b[0mx\u001b[0m\u001b[1;33m+\u001b[0m\u001b[1;36m1\u001b[0m\u001b[1;33m)\u001b[0m\u001b[1;33m\u001b[0m\u001b[1;33m\u001b[0m\u001b[0m\n\u001b[0m\u001b[0;32m      4\u001b[0m \u001b[1;33m\u001b[0m\u001b[0m\n\u001b[0;32m      5\u001b[0m \u001b[0minteg\u001b[0m\u001b[1;33m=\u001b[0m \u001b[0mintegrate\u001b[0m\u001b[1;33m(\u001b[0m\u001b[0mfunction\u001b[0m\u001b[1;33m,\u001b[0m \u001b[0mx\u001b[0m\u001b[1;33m)\u001b[0m\u001b[1;33m\u001b[0m\u001b[1;33m\u001b[0m\u001b[0m\n",
      "\u001b[1;31mNameError\u001b[0m: name 'ln' is not defined"
     ]
    }
   ],
   "source": [
    "x = Symbol('x')\n",
    "\n",
    "function= 76*(ln(x+1))/(x+1)\n",
    "\n",
    "integ= integrate(function, x)\n",
    "integ.doit()"
   ]
  },
  {
   "cell_type": "code",
   "execution_count": 171,
   "id": "4256106e",
   "metadata": {},
   "outputs": [
    {
     "data": {
      "text/latex": [
       "$\\displaystyle - 0.008073 x^{2} + 0.0722 x - 0.1002$"
      ],
      "text/plain": [
       "-0.008073*x**2 + 0.0722*x - 0.1002"
      ]
     },
     "execution_count": 171,
     "metadata": {},
     "output_type": "execute_result"
    }
   ],
   "source": [
    "x = Symbol('x')\n",
    "\n",
    "function= -0.002691*(x**3)+0.0361*(x**2)-0.1002*x+1.0647\n",
    "\n",
    "deriv= Derivative(function, x)\n",
    "deriv.doit()"
   ]
  },
  {
   "cell_type": "markdown",
   "id": "00e887cd",
   "metadata": {},
   "source": [
    "# The code below is for evaluating the value of \"X\" in a derivative."
   ]
  },
  {
   "cell_type": "code",
   "execution_count": 33,
   "id": "5a4470d5",
   "metadata": {},
   "outputs": [
    {
     "data": {
      "text/latex": [
       "$\\displaystyle - \\frac{1433}{110889}$"
      ],
      "text/plain": [
       "-1433/110889"
      ]
     },
     "execution_count": 33,
     "metadata": {},
     "output_type": "execute_result"
    }
   ],
   "source": [
    "x= Symbol('x')\n",
    "\n",
    "function= (6*x-7)/(4*(x**2)+x)\n",
    "\n",
    "deriv= Derivative(function, x)\n",
    "deriv.doit().subs({x:9})"
   ]
  },
  {
   "cell_type": "code",
   "execution_count": 201,
   "id": "4f557102",
   "metadata": {},
   "outputs": [
    {
     "data": {
      "image/png": "[encoded data removed]",
      "text/latex": [
       "$\\displaystyle -3.19091004262353$"
      ],
      "text/plain": [
       "-3.19091004262353"
      ]
     },
     "execution_count": 201,
     "metadata": {},
     "output_type": "execute_result"
    }
   ],
   "source": [
    "x= Symbol('x')\n",
    "\n",
    "function= 505*(sympy.exp(-0.37*x))\n",
    "\n",
    "deriv= Derivative(function, x)\n",
    "deriv.doit().subs({x:11})"
   ]
  },
  {
   "cell_type": "code",
   "execution_count": 165,
   "id": "0950fcae",
   "metadata": {},
   "outputs": [
    {
     "ename": "NameError",
     "evalue": "name 'ln' is not defined",
     "output_type": "error",
     "traceback": [
      "\u001b[1;31m---------------------------------------------------------------------------\u001b[0m",
      "\u001b[1;31mNameError\u001b[0m                                 Traceback (most recent call last)",
      "\u001b[1;32m<ipython-input-165-8249c8330624>\u001b[0m in \u001b[0;36m<module>\u001b[1;34m\u001b[0m\n\u001b[0;32m      1\u001b[0m \u001b[0mx\u001b[0m\u001b[1;33m=\u001b[0m \u001b[0mSymbol\u001b[0m\u001b[1;33m(\u001b[0m\u001b[1;34m'x'\u001b[0m\u001b[1;33m)\u001b[0m\u001b[1;33m\u001b[0m\u001b[1;33m\u001b[0m\u001b[0m\n\u001b[0;32m      2\u001b[0m \u001b[1;33m\u001b[0m\u001b[0m\n\u001b[1;32m----> 3\u001b[1;33m \u001b[0mfunction\u001b[0m\u001b[1;33m=\u001b[0m \u001b[1;36m30.96\u001b[0m\u001b[1;33m-\u001b[0m\u001b[1;36m5.85\u001b[0m\u001b[1;33m*\u001b[0m\u001b[0mln\u001b[0m\u001b[1;33m(\u001b[0m\u001b[0mx\u001b[0m\u001b[1;33m)\u001b[0m\u001b[1;33m\u001b[0m\u001b[1;33m\u001b[0m\u001b[0m\n\u001b[0m\u001b[0;32m      4\u001b[0m \u001b[1;33m\u001b[0m\u001b[0m\n\u001b[0;32m      5\u001b[0m \u001b[0mderiv\u001b[0m\u001b[1;33m=\u001b[0m \u001b[0mDerivative\u001b[0m\u001b[1;33m(\u001b[0m\u001b[0mfunction\u001b[0m\u001b[1;33m,\u001b[0m \u001b[0mx\u001b[0m\u001b[1;33m)\u001b[0m\u001b[1;33m\u001b[0m\u001b[1;33m\u001b[0m\u001b[0m\n",
      "\u001b[1;31mNameError\u001b[0m: name 'ln' is not defined"
     ]
    }
   ],
   "source": [
    "x= Symbol('x')\n",
    "\n",
    "function= 30.96-5.85*ln(x)\n",
    "\n",
    "deriv= Derivative(function, x)\n",
    "deriv.doit().subs({x:48})"
   ]
  },
  {
   "cell_type": "code",
   "execution_count": 40,
   "id": "caf4137f",
   "metadata": {},
   "outputs": [
    {
     "data": {
      "text/latex": [
       "$\\displaystyle 30.96 - 5.85 \\log{\\left(5 \\right)}$"
      ],
      "text/plain": [
       "30.96 - 5.85*log(5)"
      ]
     },
     "execution_count": 40,
     "metadata": {},
     "output_type": "execute_result"
    }
   ],
   "source": [
    "30.96-5.85*ln(5)"
   ]
  },
  {
   "cell_type": "markdown",
   "id": "63bd3627",
   "metadata": {},
   "source": [
    "# Max/Min"
   ]
  },
  {
   "cell_type": "code",
   "execution_count": 158,
   "id": "1888bb40",
   "metadata": {},
   "outputs": [
    {
     "name": "stdout",
     "output_type": "stream",
     "text": [
      "Pulp Solution for x1, x2, x3 and x4\n",
      "30.583333\n",
      "87.0\n",
      "None\n",
      "382.8583321 Check to make sure!!! Numbers in print() should match Objective Function\n"
     ]
    }
   ],
   "source": [
    "from pulp import LpVariable, LpProblem, LpMaximize, LpStatus, value, LpMinimize\n",
    "\n",
    "# declare your variables\n",
    "x1 = LpVariable(\"x1\", 0, None) # x1>=0\n",
    "x2 = LpVariable(\"x2\", 0, None) # x2>=0\n",
    "x3 = LpVariable(\"x3\", 0, None)\n",
    "\n",
    "# defines the problem\n",
    "prob = LpProblem(\"problem\", LpMaximize)\n",
    "\n",
    "# defines the constraints\n",
    "prob += 2.40*x1 + 0.80*x2 <= 143\n",
    "prob += x1 <= 54\n",
    "prob += x2 <= 87\n",
    "\n",
    "# defines the objective function to maximize\n",
    "prob += 3.7*x1 + 3.1*x2\n",
    "\n",
    "# solve the problem\n",
    "status = prob.solve()\n",
    "LpStatus[status]\n",
    "\n",
    "# print the results\n",
    "print(\"Pulp Solution for x1, x2, x3 and x4\")\n",
    "print(value(x1))\n",
    "print(value(x2))\n",
    "print(value(x3))\n",
    "\n",
    "#Change Values Here!!!!!\n",
    "#Rewrite Objective function\n",
    "print(3.7*value(x1) + 3.1*value(x2),\"Check to make sure!!! Numbers in print() should match Objective Function\")"
   ]
  },
  {
   "cell_type": "code",
   "execution_count": 154,
   "id": "782ade87",
   "metadata": {},
   "outputs": [
    {
     "name": "stdout",
     "output_type": "stream",
     "text": [
      "Pulp Solutions for y1, y2, and y3\n",
      "12.095238\n",
      "0.0\n",
      "44.761905\n",
      "36751.428660000005 Check to make sure!!! Numbers in print() should match Objective Function\n"
     ]
    }
   ],
   "source": [
    "from pulp import LpVariable, LpProblem, LpMaximize, LpStatus, value, LpMinimize\n",
    "\n",
    "# declare your variables\n",
    "y1 = LpVariable(\"y1\", 0, None) # y1>=0\n",
    "y2 = LpVariable(\"y2\", 0, None) # y2>=0\n",
    "y3 = LpVariable(\"y3\", 0, None) # y3>=0\n",
    "# defines the problem\n",
    "prob = LpProblem(\"problem\", LpMinimize)\n",
    "# defines the constraints\n",
    "prob += 10*y1 + 30*y2 + 25*y3 >= 1240\n",
    "prob += 0*y1 + 25*y2 + 20*y3 >= 850\n",
    "prob += 25*y1 + 0*y2 + 10*y3 >= 750\n",
    "\n",
    "# defines the objective function to maximize\n",
    "prob += 670*y1 + 760*y2+ 640*y3\n",
    "# solve the problem\n",
    "status = prob.solve()\n",
    "LpStatus[status]\n",
    "# print the results\n",
    "print(\"Pulp Solutions for y1, y2, and y3\")\n",
    "print(value(y1))\n",
    "print(value(y2))\n",
    "print(value(y3))\n",
    "\n",
    "#CHECK HERE:\n",
    "#Re-Write Objective Function\n",
    "print(670*value(y1) + 760*value(y2) + 640*value(y3),\"Check to make sure!!! Numbers in print() should match Objective Function\")"
   ]
  },
  {
   "cell_type": "code",
   "execution_count": 52,
   "id": "b8d82681",
   "metadata": {},
   "outputs": [
    {
     "name": "stdout",
     "output_type": "stream",
     "text": [
      "Optimization terminated successfully.\n",
      "         Current function value: -2.000000\n",
      "         Iterations: 25\n",
      "         Function evaluations: 50\n"
     ]
    }
   ],
   "source": [
    "import scipy\n",
    "from scipy import optimize\n",
    "\n",
    "def f(x): return -2 * x**2 + 4 * x\n",
    "max_x = scipy.optimize.fmin(lambda x: -f(x), 0)"
   ]
  },
  {
   "cell_type": "code",
   "execution_count": 58,
   "id": "14ea13a3",
   "metadata": {},
   "outputs": [
    {
     "name": "stdout",
     "output_type": "stream",
     "text": [
      "Optimization terminated successfully.\n",
      "         Current function value: -1.064700\n",
      "         Iterations: 20\n",
      "         Function evaluations: 40\n"
     ]
    }
   ],
   "source": [
    "import scipy\n",
    "from scipy import optimize\n",
    "\n",
    "def f(x):\n",
    "    return -0.002694*(x**3) + 0.0361*(x**2) - 1.0647\n",
    "\n",
    "minimum = optimize.fmin(f, 5)"
   ]
  },
  {
   "cell_type": "code",
   "execution_count": 79,
   "id": "29d322d3",
   "metadata": {},
   "outputs": [
    {
     "data": {
      "text/plain": [
       "0.0"
      ]
     },
     "execution_count": 79,
     "metadata": {},
     "output_type": "execute_result"
    }
   ],
   "source": [
    "minimum[0]"
   ]
  },
  {
   "cell_type": "markdown",
   "id": "04371a6d",
   "metadata": {},
   "source": [
    "# Integration Calculator"
   ]
  },
  {
   "cell_type": "code",
   "execution_count": 195,
   "id": "2710a961",
   "metadata": {},
   "outputs": [],
   "source": [
    "import sympy\n",
    "\n",
    "sympy.init_printing()\n",
    "\n",
    "x = sympy.Symbol('x')"
   ]
  },
  {
   "cell_type": "code",
   "execution_count": null,
   "id": "e2b11da4",
   "metadata": {},
   "outputs": [],
   "source": [
    "polynomial = (2*x + 3)**4\n",
    "polynomial.expand()"
   ]
  },
  {
   "cell_type": "code",
   "execution_count": null,
   "id": "7fcdffd6",
   "metadata": {},
   "outputs": [],
   "source": [
    "polynomial.expand()"
   ]
  },
  {
   "cell_type": "code",
   "execution_count": null,
   "id": "6621589e",
   "metadata": {},
   "outputs": [],
   "source": [
    "(x**2 + 2*x + 1).factor()"
   ]
  },
  {
   "cell_type": "markdown",
   "id": "48165826",
   "metadata": {},
   "source": [
    "Integrate/Differentiate"
   ]
  },
  {
   "cell_type": "code",
   "execution_count": 197,
   "id": "012a014a",
   "metadata": {},
   "outputs": [],
   "source": [
    "eq = 505*(sympy.exp(-0.37*x))"
   ]
  },
  {
   "cell_type": "code",
   "execution_count": 198,
   "id": "d27ab1a0",
   "metadata": {},
   "outputs": [
    {
     "data": {
      "image/png": "[encoded data removed]",
      "text/latex": [
       "$\\displaystyle - 186.85 e^{- 0.37 x}$"
      ],
      "text/plain": [
       "         -0.37⋅x\n",
       "-186.85⋅ℯ       "
      ]
     },
     "execution_count": 198,
     "metadata": {},
     "output_type": "execute_result"
    }
   ],
   "source": [
    "eq.diff(x)"
   ]
  },
  {
   "cell_type": "code",
   "execution_count": null,
   "id": "8439fc0d",
   "metadata": {},
   "outputs": [],
   "source": [
    "polynomial.diff(x) # First derivative"
   ]
  },
  {
   "cell_type": "code",
   "execution_count": null,
   "id": "0b85a6a0",
   "metadata": {},
   "outputs": [],
   "source": [
    "polynomial.diff(x, 2) # Second derivative"
   ]
  },
  {
   "cell_type": "code",
   "execution_count": null,
   "id": "eb98f0de",
   "metadata": {},
   "outputs": [],
   "source": [
    "polynomial.integrate(x) # indefinite integral - note no constant of integration is added"
   ]
  },
  {
   "cell_type": "code",
   "execution_count": 150,
   "id": "cb65c29e",
   "metadata": {
    "scrolled": true
   },
   "outputs": [
    {
     "data": {
      "image/png": "[encoded data removed]",
      "text/latex": [
       "$\\displaystyle 1.125 \\left(x^{2} + 2 x + 2\\right)^{1.33333333333333}$"
      ],
      "text/plain": [
       "                    1.33333333333333\n",
       "      ⎛ 2          ⎞                \n",
       "1.125⋅⎝x  + 2⋅x + 2⎠                "
      ]
     },
     "execution_count": 150,
     "metadata": {},
     "output_type": "execute_result"
    }
   ],
   "source": [
    "func = (3*x+3)*(((x**2)+(2*x)+2)**(1/3))\n",
    "\n",
    "func.integrate(x) # indefinite integral - note no constant of integration is added"
   ]
  },
  {
   "cell_type": "code",
   "execution_count": 113,
   "id": "be2ce757",
   "metadata": {},
   "outputs": [
    {
     "data": {
      "image/png": "[encoded data removed]",
      "text/latex": [
       "$\\displaystyle 38 \\log{\\left(25 \\right)}^{2}$"
      ],
      "text/plain": [
       "      2    \n",
       "38⋅log (25)"
      ]
     },
     "execution_count": 113,
     "metadata": {},
     "output_type": "execute_result"
    }
   ],
   "source": [
    "func.integrate((x, 0, 24)) # Note that integrate takes one argument which is a tuple for the definite integral"
   ]
  },
  {
   "cell_type": "markdown",
   "id": "1557273b",
   "metadata": {},
   "source": [
    "Different way"
   ]
  },
  {
   "cell_type": "markdown",
   "id": "4ea8311a",
   "metadata": {},
   "source": [
    "# Definite Integration"
   ]
  },
  {
   "cell_type": "code",
   "execution_count": 178,
   "id": "97b7f78b",
   "metadata": {},
   "outputs": [
    {
     "name": "stdout",
     "output_type": "stream",
     "text": [
      "Enter the lower integration bound: 0\n",
      "Enter the upper integration bound: 7\n"
     ]
    }
   ],
   "source": [
    "from math import *\n",
    "import numpy as np\n",
    "import sympy\n",
    "N = 10000\n",
    "a = float(input(\"Enter the lower integration bound: \"))\n",
    "b = float(input(\"Enter the upper integration bound: \"))"
   ]
  },
  {
   "cell_type": "code",
   "execution_count": 85,
   "id": "8bc58ca1",
   "metadata": {},
   "outputs": [],
   "source": [
    "#Example 1:\n",
    "def Integrate(N, a, b):\n",
    "    def f(x):\n",
    "        #Enter function after \"return\"\n",
    "        return 79*(np.log(x+1))/(x+1)\n",
    "    value=0\n",
    "    value2=0\n",
    "    for n in range(1, N+1):\n",
    "        value += f(a+((n-(1/2))*((b-a)/N)))\n",
    "    value2 = ((b-a)/N)*value\n",
    "    return value2"
   ]
  },
  {
   "cell_type": "code",
   "execution_count": 160,
   "id": "e8e43225",
   "metadata": {},
   "outputs": [],
   "source": [
    "#Example 2:\n",
    "def Integrate(N, a, b):\n",
    "    def f(x):\n",
    "        #Enter function after \"return\"\n",
    "        return 505*exp(-0.37*x)\n",
    "    value=0\n",
    "    value2=0\n",
    "    for n in range(1, N+1):\n",
    "        value += f(a+((n-(1/2))*((b-a)/N)))\n",
    "    value2 = ((b-a)/N)*value\n",
    "    return value2"
   ]
  },
  {
   "cell_type": "code",
   "execution_count": 179,
   "id": "ab33e00a",
   "metadata": {},
   "outputs": [],
   "source": [
    "#Example 2:\n",
    "def Integrate(N, a, b):\n",
    "    def f(x):\n",
    "        #Enter function after \"return\"\n",
    "        return 40.2 + 3.6*x - 0.895*x**2\n",
    "    value=0\n",
    "    value2=0\n",
    "    for n in range(1, N+1):\n",
    "        value += f(a+((n-(1/2))*((b-a)/N)))\n",
    "    value2 = ((b-a)/N)*value\n",
    "    return value2"
   ]
  },
  {
   "cell_type": "code",
   "execution_count": 180,
   "id": "886680f2",
   "metadata": {},
   "outputs": [
    {
     "name": "stdout",
     "output_type": "stream",
     "text": [
      "...........................\n",
      "Here is your answer: \n",
      "267.2716669224868\n"
     ]
    }
   ],
   "source": [
    "#Output Values\n",
    "print(\"...........................\")\n",
    "print(\"Here is your answer: \")\n",
    "print(Integrate(N, a, b))"
   ]
  },
  {
   "cell_type": "markdown",
   "id": "9ca975ef",
   "metadata": {},
   "source": [
    "# Solving Equations"
   ]
  },
  {
   "cell_type": "markdown",
   "id": "f1ecc90c",
   "metadata": {},
   "source": [
    "Sympy can help us solve manipulate equations using the solve function. Like many solving functions, it finds zeros of a function, so we have to rewrite equalities to be equal to zero,"
   ]
  },
  {
   "cell_type": "code",
   "execution_count": 102,
   "id": "fef2be5b",
   "metadata": {},
   "outputs": [
    {
     "data": {
      "image/png": "[encoded data removed]",
      "text/plain": [
       "<Figure size 432x288 with 1 Axes>"
      ]
     },
     "metadata": {
      "needs_background": "light"
     },
     "output_type": "display_data"
    },
    {
     "data": {
      "text/plain": [
       "<sympy.plotting.plot.Plot at 0x2206def5d00>"
      ]
     },
     "execution_count": 102,
     "metadata": {},
     "output_type": "execute_result"
    }
   ],
   "source": [
    "sympy.plot(38*ln(25)**2)"
   ]
  },
  {
   "cell_type": "code",
   "execution_count": 65,
   "id": "9ff996d0",
   "metadata": {},
   "outputs": [
    {
     "ename": "NameError",
     "evalue": "name 'sympy' is not defined",
     "output_type": "error",
     "traceback": [
      "\u001b[1;31m---------------------------------------------------------------------------\u001b[0m",
      "\u001b[1;31mNameError\u001b[0m                                 Traceback (most recent call last)",
      "\u001b[1;32m<ipython-input-65-6bd796d316df>\u001b[0m in \u001b[0;36m<module>\u001b[1;34m\u001b[0m\n\u001b[1;32m----> 1\u001b[1;33m \u001b[0msolutions\u001b[0m \u001b[1;33m=\u001b[0m \u001b[0msympy\u001b[0m\u001b[1;33m.\u001b[0m\u001b[0msolve\u001b[0m\u001b[1;33m(\u001b[0m\u001b[1;36m38\u001b[0m\u001b[1;33m*\u001b[0m\u001b[0mln\u001b[0m\u001b[1;33m(\u001b[0m\u001b[0mx\u001b[0m\u001b[1;33m+\u001b[0m\u001b[1;36m1\u001b[0m\u001b[1;33m)\u001b[0m\u001b[1;33m**\u001b[0m\u001b[1;36m2\u001b[0m\u001b[1;33m)\u001b[0m\u001b[1;33m\u001b[0m\u001b[1;33m\u001b[0m\u001b[0m\n\u001b[0m\u001b[0;32m      2\u001b[0m \u001b[0msolutions\u001b[0m\u001b[1;33m\u001b[0m\u001b[1;33m\u001b[0m\u001b[0m\n",
      "\u001b[1;31mNameError\u001b[0m: name 'sympy' is not defined"
     ]
    }
   ],
   "source": [
    "solutions = sympy.solve(38*ln(x+1)**2)\n",
    "solutions"
   ]
  },
  {
   "cell_type": "code",
   "execution_count": 1,
   "id": "3e687d1a",
   "metadata": {},
   "outputs": [
    {
     "ename": "NameError",
     "evalue": "name 'solutions' is not defined",
     "output_type": "error",
     "traceback": [
      "\u001b[1;31m---------------------------------------------------------------------------\u001b[0m",
      "\u001b[1;31mNameError\u001b[0m                                 Traceback (most recent call last)",
      "\u001b[1;32m<ipython-input-1-e9d2e9512313>\u001b[0m in \u001b[0;36m<module>\u001b[1;34m\u001b[0m\n\u001b[1;32m----> 1\u001b[1;33m \u001b[0msolutions\u001b[0m\u001b[1;33m[\u001b[0m\u001b[1;36m0\u001b[0m\u001b[1;33m]\u001b[0m\u001b[1;33m\u001b[0m\u001b[1;33m\u001b[0m\u001b[0m\n\u001b[0m",
      "\u001b[1;31mNameError\u001b[0m: name 'solutions' is not defined"
     ]
    }
   ],
   "source": [
    "solutions[0]"
   ]
  },
  {
   "cell_type": "markdown",
   "id": "364e4f08",
   "metadata": {},
   "source": [
    "We can also solve systems of equations by passing a list of equations to solve and asking for a list of variables to solve for"
   ]
  },
  {
   "cell_type": "code",
   "execution_count": null,
   "id": "2327a922",
   "metadata": {},
   "outputs": [],
   "source": [
    "x, y = sympy.symbols('x, y')\n",
    "sympy.solve([x + y - 2,\n",
    "             x - y - 0], [x, y])"
   ]
  },
  {
   "cell_type": "code",
   "execution_count": null,
   "id": "f4b74244",
   "metadata": {},
   "outputs": [],
   "source": [
    "a, b, c = sympy.var('a, b, c')\n",
    "solution = sympy.solve([a*x + b*y - 2,\n",
    "                        a*x - b*y - c], [x, y])\n",
    "solution\n",
    "\n",
    "{x:c+22a,y:−c+22b}"
   ]
  },
  {
   "cell_type": "markdown",
   "id": "d41d93a6",
   "metadata": {},
   "source": [
    "# Uniform Distribution Calculator"
   ]
  },
  {
   "cell_type": "code",
   "execution_count": 91,
   "id": "d36fa0ba",
   "metadata": {},
   "outputs": [
    {
     "name": "stdout",
     "output_type": "stream",
     "text": [
      "29.0\n",
      "0.07142857142857142\n"
     ]
    }
   ],
   "source": [
    "#Define interval [a, b]\n",
    "a=22\n",
    "b=36\n",
    "\n",
    "#Average (expected over interval)\n",
    "av = (a+b)/2\n",
    "print(av)\n",
    "\n",
    "#Probability (discrete over interval [a, b])\n",
    "p = 1/((b-a))\n",
    "print(p)"
   ]
  },
  {
   "cell_type": "code",
   "execution_count": 92,
   "id": "0b05d81b",
   "metadata": {},
   "outputs": [
    {
     "name": "stdout",
     "output_type": "stream",
     "text": [
      "0.21428571428571427\n"
     ]
    }
   ],
   "source": [
    "#Probability (discrete over interval [c, b])\n",
    "#ex: lives longer than 32 days\n",
    "c= 33\n",
    "\n",
    "pinterval = p*(b-c)\n",
    "print(pinterval)"
   ]
  },
  {
   "cell_type": "markdown",
   "id": "a1a044db",
   "metadata": {},
   "source": [
    "# Exponential Distribution Calculator"
   ]
  },
  {
   "cell_type": "markdown",
   "id": "26978f79",
   "metadata": {},
   "source": [
    "Exponential distribution:\n",
    "    f(x) = a*e**(-a*x) for x in [0,inf)\n",
    "    mu= 1/a and sigma = 1/a"
   ]
  },
  {
   "cell_type": "code",
   "execution_count": 190,
   "id": "f47e72a8",
   "metadata": {},
   "outputs": [],
   "source": [
    "import numpy as np"
   ]
  },
  {
   "cell_type": "code",
   "execution_count": 191,
   "id": "7c43c361",
   "metadata": {},
   "outputs": [],
   "source": [
    "#Function for the CDF of the exponential distribution\n",
    "def CDFExponential(lamb,x): #lamb = lambda\n",
    "    if x<=0:\n",
    "        cdf=0\n",
    "    else:\n",
    "        cdf=1-np.exp(-lamb*x)\n",
    "    return cdf\n",
    "#Function to compute the mean of the exponential distribution\n",
    "def MeanExponential(lamb):\n",
    "    return 1/lamb;\n",
    "def VarianceExponential(lamb):\n",
    "    return (1/lamb)**2;    "
   ]
  },
  {
   "cell_type": "code",
   "execution_count": 192,
   "id": "27997d0f",
   "metadata": {},
   "outputs": [
    {
     "name": "stdout",
     "output_type": "stream",
     "text": [
      "1.0\n",
      "0.0125\n",
      "0.00015625000000000003\n"
     ]
    }
   ],
   "source": [
    "#CDF of the exponential distribution\n",
    "#when lambda=1/5 and x=3\n",
    "\n",
    "#Prints value of x percent probability\n",
    "#ex: (lamb, x)=(5, .2) or x = 20%\n",
    "print (CDFExponential((80),.4783))\n",
    "#Expected Proportion Printed Below:\n",
    "print (MeanExponential(80))\n",
    "\n",
    "print (VarianceExponential(80))"
   ]
  },
  {
   "cell_type": "code",
   "execution_count": 194,
   "id": "0efc14bd",
   "metadata": {
    "scrolled": true
   },
   "outputs": [
    {
     "name": "stdout",
     "output_type": "stream",
     "text": [
      "0.002054957731209459\n"
     ]
    }
   ],
   "source": [
    "#Probability through finding limit to infinity\n",
    "#finds probability of function from x value given.\n",
    "from sympy import limit, oo, Symbol\n",
    "\n",
    "#for \"lamb\", take denominator of fraction \n",
    "#ex: lamb = (1/609.5) becomes lamb = 609.5\n",
    "def ProbLimit (lamb ,b):\n",
    "    return 0+exp(-b/lamb)\n",
    "\n",
    "print (ProbLimit(80, 495))"
   ]
  },
  {
   "cell_type": "code",
   "execution_count": null,
   "id": "a0d83c6d",
   "metadata": {},
   "outputs": [],
   "source": []
  },
  {
   "cell_type": "markdown",
   "id": "bf3155de",
   "metadata": {},
   "source": [
    "# Normal Distribution Calculator"
   ]
  },
  {
   "cell_type": "code",
   "execution_count": 95,
   "id": "c01756cd",
   "metadata": {},
   "outputs": [
    {
     "name": "stdout",
     "output_type": "stream",
     "text": [
      "P(X > 2.7) = 0.1587\n",
      "P(2.26 < X < 2.74) = 0.7699\n"
     ]
    }
   ],
   "source": [
    "from sympy.stats import Normal, P\n",
    "from sympy import N, And\n",
    "\n",
    "#Next to X enter (Mean, SD)\n",
    "X = Normal(\"X\", 2.5, 0.2)\n",
    "print(f\"P(X > 2.7) = {round(N(P(X>2.7)),4)}\")\n",
    "print(f\"P(2.26 < X < 2.74) = {round(N(P(And(X>2.26,X<2.74))),4)}\")"
   ]
  }
 ],
 "metadata": {
  "kernelspec": {
   "display_name": "Python 3",
   "language": "python",
   "name": "python3"
  },
  "language_info": {
   "codemirror_mode": {
    "name": "ipython",
    "version": 3
   },
   "file_extension": ".py",
   "mimetype": "text/x-python",
   "name": "python",
   "nbconvert_exporter": "python",
   "pygments_lexer": "ipython3",
   "version": "3.8.8"
  }
 },
 "nbformat": 4,
 "nbformat_minor": 5
}
